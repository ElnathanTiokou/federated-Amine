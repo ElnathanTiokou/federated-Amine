{
 "cells": [
  {
   "cell_type": "code",
   "execution_count": 86,
   "outputs": [],
   "source": [
    "import os\n",
    "import shutil\n",
    "from collections import defaultdict\n",
    "import numpy as np\n",
    "import matplotlib.pyplot as plt\n",
    "from tqdm import tqdm\n",
    "import pandas as pd\n",
    "from IPython.display import display, HTML\n",
    "import matplotlib.pyplot as plt\n",
    "import os\n",
    "import cv2\n",
    "import shutil\n",
    "from scipy.stats import mannwhitneyu"
   ],
   "metadata": {
    "collapsed": false,
    "pycharm": {
     "name": "#%%\n"
    }
   }
  },
  {
   "cell_type": "code",
   "execution_count": 87,
   "metadata": {
    "collapsed": true
   },
   "outputs": [
    {
     "name": "stderr",
     "output_type": "stream",
     "text": [
      "100%|██████████| 101/101 [00:00<00:00, 2589.06it/s]\n",
      "100%|██████████| 100/100 [00:00<00:00, 2859.45it/s]\n",
      "100%|██████████| 101/101 [00:00<00:00, 3255.50it/s]\n",
      "100%|██████████| 101/101 [00:00<00:00, 3258.38it/s]\n",
      "100%|██████████| 100/100 [00:00<00:00, 3122.53it/s]\n",
      "100%|██████████| 100/100 [00:00<00:00, 3330.69it/s]\n",
      "100%|██████████| 100/100 [00:00<00:00, 3330.32it/s]\n",
      "100%|██████████| 100/100 [00:00<00:00, 3333.89it/s]\n",
      "100%|██████████| 100/100 [00:00<00:00, 3225.74it/s]\n",
      "100%|██████████| 100/100 [00:00<00:00, 3223.31it/s]\n"
     ]
    }
   ],
   "source": [
    "root = 'results/adni/'\n",
    "for run in os.listdir(root):\n",
    "    if run == '0images':\n",
    "            continue\n",
    "    for folder in tqdm(os.listdir(root + run)):\n",
    "        for file in os.listdir(root + run + '/' + folder):\n",
    "            if file.endswith('.json'):\n",
    "                number = file.replace('.json', '').replace('config-', '')\n",
    "                try:\n",
    "                    shutil.move(root + 'fed-job-{}.out'.format(number), root + folder)\n",
    "                except:\n",
    "                    pass\n",
    "            if file.endswith('npy'):\n",
    "                metric = file.replace('.npy', '')\n",
    "                if os.path.exists(root + run + '/' + folder + '/' + metric + '.png'):\n",
    "                    continue\n",
    "                y = np.load(root + run + '/' + folder + '/' + file)\n",
    "                x = np.arange(1, len(y) + 1)\n",
    "                mean = y.cumsum() / x\n",
    "                fig = plt.figure()\n",
    "                plt.plot(x, y, label=metric.replace('_', ' '))\n",
    "                plt.plot(x, mean, label=metric.replace('_', ' ') + ' mean')\n",
    "                plt.xlabel('num of round')\n",
    "                plt.grid(True)\n",
    "                plt.yticks(np.arange(0, 1, 0.1))\n",
    "                plt.legend()\n",
    "                plt.savefig(root + run + '/' + folder + '/' + metric + '.png', bbox_inches='tight')\n",
    "                plt.close(fig)"
   ]
  },
  {
   "cell_type": "code",
   "execution_count": 88,
   "outputs": [],
   "source": [
    "krum_images = []\n",
    "\n",
    "def load(root):\n",
    "    result_map = defaultdict(list)\n",
    "    for run in os.listdir(root):\n",
    "        if run == '0images':\n",
    "                continue\n",
    "        for folder in os.listdir(root + run):\n",
    "            if folder == '0images':\n",
    "                continue\n",
    "            accuracy_m = 0\n",
    "            accuracy_s = 0\n",
    "            for file in os.listdir(root + run + '/' + folder):\n",
    "                if file.endswith('.npy'):\n",
    "                    results = np.load(root + run + '/' + folder + '/' + file)\n",
    "                    num = max(20, len(results) // 10)\n",
    "                    accuracy_m = np.median(results[-num:])\n",
    "                    deg = '0.4'\n",
    "                    if 'adni' in folder:\n",
    "                        deg = '0'\n",
    "                    if deg+'--krum--clean' in folder:\n",
    "                        krum_images.append(root + run + '/' + folder + '/' + file.replace('.npy', '.png'))\n",
    "                    accuracy_s = results[-num:].std()\n",
    "                    if file.startswith('backdoor'):\n",
    "                        break\n",
    "            result_map[folder].append((accuracy_m, accuracy_s))\n",
    "    return result_map\n",
    "result_map = load(root)\n",
    "\n",
    "path = root+'0images/krum/'\n",
    "os.makedirs(path,exist_ok=True)\n",
    "for i, image in enumerate(krum_images):\n",
    "    shutil.copy(image, path+'{}.png'.format(i))\n",
    "\n"
   ],
   "metadata": {
    "collapsed": false,
    "pycharm": {
     "name": "#%%\n"
    }
   }
  },
  {
   "cell_type": "code",
   "execution_count": 89,
   "outputs": [],
   "source": [
    "data = []\n",
    "for config in result_map:\n",
    "    results = result_map[config]\n",
    "    results = np.median(results, axis=0)\n",
    "    a = list(filter(lambda x: x, config.split('-')))\n",
    "    dataset = a[0]\n",
    "    non_iid = a[1]\n",
    "    aggregator = a[2]\n",
    "    attack = a[3]\n",
    "    fraction = 0\n",
    "    if len(a) > 4:\n",
    "        fraction = a[4]\n",
    "    data.append((dataset, non_iid, aggregator, attack, fraction, *results))\n",
    "\n",
    "df = pd.DataFrame(data, columns=['dataset', 'non_iid', 'aggregator', 'attack', 'fraction', 'accuracy_m', 'accuracy_s'])\n",
    "\n",
    "df.to_csv(root + '0images/raw.csv')"
   ],
   "metadata": {
    "collapsed": false,
    "pycharm": {
     "name": "#%%\n"
    }
   }
  },
  {
   "cell_type": "code",
   "execution_count": 90,
   "outputs": [],
   "source": [
    "def group_and_show(df, group_by, exclusions=None):\n",
    "    if exclusions:\n",
    "        df = df.drop(exclusions, axis=1)\n",
    "    groups = df.groupby(group_by)\n",
    "    frames = []\n",
    "    for i , (_, frame) in enumerate(groups):\n",
    "\n",
    "        if i!= len(groups)-1:\n",
    "            frame = frame.append(pd.Series(dtype=object), ignore_index=True)\n",
    "        frames.append(frame)\n",
    "\n",
    "    frame = pd.concat(frames).fillna('').reset_index(drop=True)\n",
    "\n",
    "    def fill(row):\n",
    "        if row.dataset == '':\n",
    "            return ['background-color: #e0e2e5'] * len(row)\n",
    "        return [''] * len(row)\n",
    "\n",
    "    display(frame.style.hide_index().set_properties(**{'font-size': '.8rem'}).apply(fill, axis=1))\n"
   ],
   "metadata": {
    "collapsed": false,
    "pycharm": {
     "name": "#%%\n"
    }
   }
  },
  {
   "cell_type": "markdown",
   "source": [
    "### Comparison of aggregators with no attacks"
   ],
   "metadata": {
    "collapsed": false,
    "pycharm": {
     "name": "#%% md\n"
    }
   }
  },
  {
   "cell_type": "code",
   "execution_count": 91,
   "outputs": [
    {
     "data": {
      "text/plain": "<pandas.io.formats.style.Styler at 0x1102c120490>",
      "text/html": "<style type=\"text/css\">\n#T_47964_row0_col0, #T_47964_row0_col1, #T_47964_row0_col2, #T_47964_row0_col3, #T_47964_row0_col4, #T_47964_row1_col0, #T_47964_row1_col1, #T_47964_row1_col2, #T_47964_row1_col3, #T_47964_row1_col4, #T_47964_row2_col0, #T_47964_row2_col1, #T_47964_row2_col2, #T_47964_row2_col3, #T_47964_row2_col4, #T_47964_row3_col0, #T_47964_row3_col1, #T_47964_row3_col2, #T_47964_row3_col3, #T_47964_row3_col4 {\n  font-size: .8rem;\n}\n</style>\n<table id=\"T_47964_\">\n  <thead>\n    <tr>\n      <th class=\"col_heading level0 col0\" >dataset</th>\n      <th class=\"col_heading level0 col1\" >non_iid</th>\n      <th class=\"col_heading level0 col2\" >aggregator</th>\n      <th class=\"col_heading level0 col3\" >accuracy_m</th>\n      <th class=\"col_heading level0 col4\" >accuracy_s</th>\n    </tr>\n  </thead>\n  <tbody>\n    <tr>\n      <td id=\"T_47964_row0_col0\" class=\"data row0 col0\" >adni</td>\n      <td id=\"T_47964_row0_col1\" class=\"data row0 col1\" >0</td>\n      <td id=\"T_47964_row0_col2\" class=\"data row0 col2\" >fedavg</td>\n      <td id=\"T_47964_row0_col3\" class=\"data row0 col3\" >0.747754</td>\n      <td id=\"T_47964_row0_col4\" class=\"data row0 col4\" >0.001314</td>\n    </tr>\n    <tr>\n      <td id=\"T_47964_row1_col0\" class=\"data row1 col0\" >adni</td>\n      <td id=\"T_47964_row1_col1\" class=\"data row1 col1\" >0</td>\n      <td id=\"T_47964_row1_col2\" class=\"data row1 col2\" >krum</td>\n      <td id=\"T_47964_row1_col3\" class=\"data row1 col3\" >0.634565</td>\n      <td id=\"T_47964_row1_col4\" class=\"data row1 col4\" >0.001112</td>\n    </tr>\n    <tr>\n      <td id=\"T_47964_row2_col0\" class=\"data row2 col0\" >adni</td>\n      <td id=\"T_47964_row2_col1\" class=\"data row2 col1\" >0</td>\n      <td id=\"T_47964_row2_col2\" class=\"data row2 col2\" >median</td>\n      <td id=\"T_47964_row2_col3\" class=\"data row2 col3\" >0.754130</td>\n      <td id=\"T_47964_row2_col4\" class=\"data row2 col4\" >0.001623</td>\n    </tr>\n    <tr>\n      <td id=\"T_47964_row3_col0\" class=\"data row3 col0\" >adni</td>\n      <td id=\"T_47964_row3_col1\" class=\"data row3 col1\" >0</td>\n      <td id=\"T_47964_row3_col2\" class=\"data row3 col2\" >trimmedmean</td>\n      <td id=\"T_47964_row3_col3\" class=\"data row3 col3\" >0.754203</td>\n      <td id=\"T_47964_row3_col4\" class=\"data row3 col4\" >0.001174</td>\n    </tr>\n  </tbody>\n</table>\n"
     },
     "metadata": {},
     "output_type": "display_data"
    }
   ],
   "source": [
    "clean_results =  df[df['attack'] == 'clean']\n",
    "\n",
    "group_and_show(clean_results, 'non_iid', ['attack', 'fraction'])\n",
    "# group_and_show(clean_results, 'aggregator', ['attack', 'fraction'])"
   ],
   "metadata": {
    "collapsed": false,
    "pycharm": {
     "name": "#%%\n"
    }
   }
  },
  {
   "cell_type": "markdown",
   "source": [
    "#\n",
    "#\n",
    "### Comparison of attacks on the baseline (fed averaging)\n"
   ],
   "metadata": {
    "collapsed": false
   }
  },
  {
   "cell_type": "code",
   "execution_count": 92,
   "outputs": [
    {
     "data": {
      "text/plain": "<pandas.io.formats.style.Styler at 0x1100c12bd30>",
      "text/html": "<style type=\"text/css\">\n#T_cfcfb_row0_col0, #T_cfcfb_row0_col1, #T_cfcfb_row0_col2, #T_cfcfb_row0_col3, #T_cfcfb_row0_col4, #T_cfcfb_row0_col5, #T_cfcfb_row1_col0, #T_cfcfb_row1_col1, #T_cfcfb_row1_col2, #T_cfcfb_row1_col3, #T_cfcfb_row1_col4, #T_cfcfb_row1_col5, #T_cfcfb_row2_col0, #T_cfcfb_row2_col1, #T_cfcfb_row2_col2, #T_cfcfb_row2_col3, #T_cfcfb_row2_col4, #T_cfcfb_row2_col5, #T_cfcfb_row4_col0, #T_cfcfb_row4_col1, #T_cfcfb_row4_col2, #T_cfcfb_row4_col3, #T_cfcfb_row4_col4, #T_cfcfb_row4_col5, #T_cfcfb_row5_col0, #T_cfcfb_row5_col1, #T_cfcfb_row5_col2, #T_cfcfb_row5_col3, #T_cfcfb_row5_col4, #T_cfcfb_row5_col5, #T_cfcfb_row6_col0, #T_cfcfb_row6_col1, #T_cfcfb_row6_col2, #T_cfcfb_row6_col3, #T_cfcfb_row6_col4, #T_cfcfb_row6_col5, #T_cfcfb_row8_col0, #T_cfcfb_row8_col1, #T_cfcfb_row8_col2, #T_cfcfb_row8_col3, #T_cfcfb_row8_col4, #T_cfcfb_row8_col5, #T_cfcfb_row9_col0, #T_cfcfb_row9_col1, #T_cfcfb_row9_col2, #T_cfcfb_row9_col3, #T_cfcfb_row9_col4, #T_cfcfb_row9_col5, #T_cfcfb_row10_col0, #T_cfcfb_row10_col1, #T_cfcfb_row10_col2, #T_cfcfb_row10_col3, #T_cfcfb_row10_col4, #T_cfcfb_row10_col5, #T_cfcfb_row12_col0, #T_cfcfb_row12_col1, #T_cfcfb_row12_col2, #T_cfcfb_row12_col3, #T_cfcfb_row12_col4, #T_cfcfb_row12_col5, #T_cfcfb_row13_col0, #T_cfcfb_row13_col1, #T_cfcfb_row13_col2, #T_cfcfb_row13_col3, #T_cfcfb_row13_col4, #T_cfcfb_row13_col5, #T_cfcfb_row14_col0, #T_cfcfb_row14_col1, #T_cfcfb_row14_col2, #T_cfcfb_row14_col3, #T_cfcfb_row14_col4, #T_cfcfb_row14_col5, #T_cfcfb_row16_col0, #T_cfcfb_row16_col1, #T_cfcfb_row16_col2, #T_cfcfb_row16_col3, #T_cfcfb_row16_col4, #T_cfcfb_row16_col5, #T_cfcfb_row17_col0, #T_cfcfb_row17_col1, #T_cfcfb_row17_col2, #T_cfcfb_row17_col3, #T_cfcfb_row17_col4, #T_cfcfb_row17_col5, #T_cfcfb_row18_col0, #T_cfcfb_row18_col1, #T_cfcfb_row18_col2, #T_cfcfb_row18_col3, #T_cfcfb_row18_col4, #T_cfcfb_row18_col5, #T_cfcfb_row20_col0, #T_cfcfb_row20_col1, #T_cfcfb_row20_col2, #T_cfcfb_row20_col3, #T_cfcfb_row20_col4, #T_cfcfb_row20_col5, #T_cfcfb_row21_col0, #T_cfcfb_row21_col1, #T_cfcfb_row21_col2, #T_cfcfb_row21_col3, #T_cfcfb_row21_col4, #T_cfcfb_row21_col5, #T_cfcfb_row22_col0, #T_cfcfb_row22_col1, #T_cfcfb_row22_col2, #T_cfcfb_row22_col3, #T_cfcfb_row22_col4, #T_cfcfb_row22_col5, #T_cfcfb_row24_col0, #T_cfcfb_row24_col1, #T_cfcfb_row24_col2, #T_cfcfb_row24_col3, #T_cfcfb_row24_col4, #T_cfcfb_row24_col5, #T_cfcfb_row25_col0, #T_cfcfb_row25_col1, #T_cfcfb_row25_col2, #T_cfcfb_row25_col3, #T_cfcfb_row25_col4, #T_cfcfb_row25_col5, #T_cfcfb_row26_col0, #T_cfcfb_row26_col1, #T_cfcfb_row26_col2, #T_cfcfb_row26_col3, #T_cfcfb_row26_col4, #T_cfcfb_row26_col5, #T_cfcfb_row28_col0, #T_cfcfb_row28_col1, #T_cfcfb_row28_col2, #T_cfcfb_row28_col3, #T_cfcfb_row28_col4, #T_cfcfb_row28_col5, #T_cfcfb_row29_col0, #T_cfcfb_row29_col1, #T_cfcfb_row29_col2, #T_cfcfb_row29_col3, #T_cfcfb_row29_col4, #T_cfcfb_row29_col5, #T_cfcfb_row30_col0, #T_cfcfb_row30_col1, #T_cfcfb_row30_col2, #T_cfcfb_row30_col3, #T_cfcfb_row30_col4, #T_cfcfb_row30_col5 {\n  font-size: .8rem;\n}\n#T_cfcfb_row3_col0, #T_cfcfb_row3_col1, #T_cfcfb_row3_col2, #T_cfcfb_row3_col3, #T_cfcfb_row3_col4, #T_cfcfb_row3_col5, #T_cfcfb_row7_col0, #T_cfcfb_row7_col1, #T_cfcfb_row7_col2, #T_cfcfb_row7_col3, #T_cfcfb_row7_col4, #T_cfcfb_row7_col5, #T_cfcfb_row11_col0, #T_cfcfb_row11_col1, #T_cfcfb_row11_col2, #T_cfcfb_row11_col3, #T_cfcfb_row11_col4, #T_cfcfb_row11_col5, #T_cfcfb_row15_col0, #T_cfcfb_row15_col1, #T_cfcfb_row15_col2, #T_cfcfb_row15_col3, #T_cfcfb_row15_col4, #T_cfcfb_row15_col5, #T_cfcfb_row19_col0, #T_cfcfb_row19_col1, #T_cfcfb_row19_col2, #T_cfcfb_row19_col3, #T_cfcfb_row19_col4, #T_cfcfb_row19_col5, #T_cfcfb_row23_col0, #T_cfcfb_row23_col1, #T_cfcfb_row23_col2, #T_cfcfb_row23_col3, #T_cfcfb_row23_col4, #T_cfcfb_row23_col5, #T_cfcfb_row27_col0, #T_cfcfb_row27_col1, #T_cfcfb_row27_col2, #T_cfcfb_row27_col3, #T_cfcfb_row27_col4, #T_cfcfb_row27_col5 {\n  font-size: .8rem;\n  background-color: #e0e2e5;\n}\n</style>\n<table id=\"T_cfcfb_\">\n  <thead>\n    <tr>\n      <th class=\"col_heading level0 col0\" >dataset</th>\n      <th class=\"col_heading level0 col1\" >non_iid</th>\n      <th class=\"col_heading level0 col2\" >attack</th>\n      <th class=\"col_heading level0 col3\" >fraction</th>\n      <th class=\"col_heading level0 col4\" >accuracy_m</th>\n      <th class=\"col_heading level0 col5\" >accuracy_s</th>\n    </tr>\n  </thead>\n  <tbody>\n    <tr>\n      <td id=\"T_cfcfb_row0_col0\" class=\"data row0 col0\" >adni</td>\n      <td id=\"T_cfcfb_row0_col1\" class=\"data row0 col1\" >0</td>\n      <td id=\"T_cfcfb_row0_col2\" class=\"data row0 col2\" >backdoor</td>\n      <td id=\"T_cfcfb_row0_col3\" class=\"data row0 col3\" >0.1</td>\n      <td id=\"T_cfcfb_row0_col4\" class=\"data row0 col4\" >0.985465</td>\n      <td id=\"T_cfcfb_row0_col5\" class=\"data row0 col5\" >0.085722</td>\n    </tr>\n    <tr>\n      <td id=\"T_cfcfb_row1_col0\" class=\"data row1 col0\" >adni</td>\n      <td id=\"T_cfcfb_row1_col1\" class=\"data row1 col1\" >0</td>\n      <td id=\"T_cfcfb_row1_col2\" class=\"data row1 col2\" >backdoor</td>\n      <td id=\"T_cfcfb_row1_col3\" class=\"data row1 col3\" >0.3</td>\n      <td id=\"T_cfcfb_row1_col4\" class=\"data row1 col4\" >1.000000</td>\n      <td id=\"T_cfcfb_row1_col5\" class=\"data row1 col5\" >0.000000</td>\n    </tr>\n    <tr>\n      <td id=\"T_cfcfb_row2_col0\" class=\"data row2 col0\" >adni</td>\n      <td id=\"T_cfcfb_row2_col1\" class=\"data row2 col1\" >0</td>\n      <td id=\"T_cfcfb_row2_col2\" class=\"data row2 col2\" >backdoor</td>\n      <td id=\"T_cfcfb_row2_col3\" class=\"data row2 col3\" >0.5</td>\n      <td id=\"T_cfcfb_row2_col4\" class=\"data row2 col4\" >1.000000</td>\n      <td id=\"T_cfcfb_row2_col5\" class=\"data row2 col5\" >0.000000</td>\n    </tr>\n    <tr>\n      <td id=\"T_cfcfb_row3_col0\" class=\"data row3 col0\" ></td>\n      <td id=\"T_cfcfb_row3_col1\" class=\"data row3 col1\" ></td>\n      <td id=\"T_cfcfb_row3_col2\" class=\"data row3 col2\" ></td>\n      <td id=\"T_cfcfb_row3_col3\" class=\"data row3 col3\" ></td>\n      <td id=\"T_cfcfb_row3_col4\" class=\"data row3 col4\" ></td>\n      <td id=\"T_cfcfb_row3_col5\" class=\"data row3 col5\" ></td>\n    </tr>\n    <tr>\n      <td id=\"T_cfcfb_row4_col0\" class=\"data row4 col0\" >adni</td>\n      <td id=\"T_cfcfb_row4_col1\" class=\"data row4 col1\" >0</td>\n      <td id=\"T_cfcfb_row4_col2\" class=\"data row4 col2\" >deletedata</td>\n      <td id=\"T_cfcfb_row4_col3\" class=\"data row4 col3\" >0.1</td>\n      <td id=\"T_cfcfb_row4_col4\" class=\"data row4 col4\" >0.751884</td>\n      <td id=\"T_cfcfb_row4_col5\" class=\"data row4 col5\" >0.001447</td>\n    </tr>\n    <tr>\n      <td id=\"T_cfcfb_row5_col0\" class=\"data row5 col0\" >adni</td>\n      <td id=\"T_cfcfb_row5_col1\" class=\"data row5 col1\" >0</td>\n      <td id=\"T_cfcfb_row5_col2\" class=\"data row5 col2\" >deletedata</td>\n      <td id=\"T_cfcfb_row5_col3\" class=\"data row5 col3\" >0.3</td>\n      <td id=\"T_cfcfb_row5_col4\" class=\"data row5 col4\" >0.749565</td>\n      <td id=\"T_cfcfb_row5_col5\" class=\"data row5 col5\" >0.001288</td>\n    </tr>\n    <tr>\n      <td id=\"T_cfcfb_row6_col0\" class=\"data row6 col0\" >adni</td>\n      <td id=\"T_cfcfb_row6_col1\" class=\"data row6 col1\" >0</td>\n      <td id=\"T_cfcfb_row6_col2\" class=\"data row6 col2\" >deletedata</td>\n      <td id=\"T_cfcfb_row6_col3\" class=\"data row6 col3\" >0.5</td>\n      <td id=\"T_cfcfb_row6_col4\" class=\"data row6 col4\" >0.741739</td>\n      <td id=\"T_cfcfb_row6_col5\" class=\"data row6 col5\" >0.001475</td>\n    </tr>\n    <tr>\n      <td id=\"T_cfcfb_row7_col0\" class=\"data row7 col0\" ></td>\n      <td id=\"T_cfcfb_row7_col1\" class=\"data row7 col1\" ></td>\n      <td id=\"T_cfcfb_row7_col2\" class=\"data row7 col2\" ></td>\n      <td id=\"T_cfcfb_row7_col3\" class=\"data row7 col3\" ></td>\n      <td id=\"T_cfcfb_row7_col4\" class=\"data row7 col4\" ></td>\n      <td id=\"T_cfcfb_row7_col5\" class=\"data row7 col5\" ></td>\n    </tr>\n    <tr>\n      <td id=\"T_cfcfb_row8_col0\" class=\"data row8 col0\" >adni</td>\n      <td id=\"T_cfcfb_row8_col1\" class=\"data row8 col1\" >0</td>\n      <td id=\"T_cfcfb_row8_col2\" class=\"data row8 col2\" >labelflip</td>\n      <td id=\"T_cfcfb_row8_col3\" class=\"data row8 col3\" >0.1</td>\n      <td id=\"T_cfcfb_row8_col4\" class=\"data row8 col4\" >0.690217</td>\n      <td id=\"T_cfcfb_row8_col5\" class=\"data row8 col5\" >0.001519</td>\n    </tr>\n    <tr>\n      <td id=\"T_cfcfb_row9_col0\" class=\"data row9 col0\" >adni</td>\n      <td id=\"T_cfcfb_row9_col1\" class=\"data row9 col1\" >0</td>\n      <td id=\"T_cfcfb_row9_col2\" class=\"data row9 col2\" >labelflip</td>\n      <td id=\"T_cfcfb_row9_col3\" class=\"data row9 col3\" >0.3</td>\n      <td id=\"T_cfcfb_row9_col4\" class=\"data row9 col4\" >0.581377</td>\n      <td id=\"T_cfcfb_row9_col5\" class=\"data row9 col5\" >0.002093</td>\n    </tr>\n    <tr>\n      <td id=\"T_cfcfb_row10_col0\" class=\"data row10 col0\" >adni</td>\n      <td id=\"T_cfcfb_row10_col1\" class=\"data row10 col1\" >0</td>\n      <td id=\"T_cfcfb_row10_col2\" class=\"data row10 col2\" >labelflip</td>\n      <td id=\"T_cfcfb_row10_col3\" class=\"data row10 col3\" >0.5</td>\n      <td id=\"T_cfcfb_row10_col4\" class=\"data row10 col4\" >0.540290</td>\n      <td id=\"T_cfcfb_row10_col5\" class=\"data row10 col5\" >0.002064</td>\n    </tr>\n    <tr>\n      <td id=\"T_cfcfb_row11_col0\" class=\"data row11 col0\" ></td>\n      <td id=\"T_cfcfb_row11_col1\" class=\"data row11 col1\" ></td>\n      <td id=\"T_cfcfb_row11_col2\" class=\"data row11 col2\" ></td>\n      <td id=\"T_cfcfb_row11_col3\" class=\"data row11 col3\" ></td>\n      <td id=\"T_cfcfb_row11_col4\" class=\"data row11 col4\" ></td>\n      <td id=\"T_cfcfb_row11_col5\" class=\"data row11 col5\" ></td>\n    </tr>\n    <tr>\n      <td id=\"T_cfcfb_row12_col0\" class=\"data row12 col0\" >adni</td>\n      <td id=\"T_cfcfb_row12_col1\" class=\"data row12 col1\" >0</td>\n      <td id=\"T_cfcfb_row12_col2\" class=\"data row12 col2\" >noisedata</td>\n      <td id=\"T_cfcfb_row12_col3\" class=\"data row12 col3\" >0.1</td>\n      <td id=\"T_cfcfb_row12_col4\" class=\"data row12 col4\" >0.737536</td>\n      <td id=\"T_cfcfb_row12_col5\" class=\"data row12 col5\" >0.001382</td>\n    </tr>\n    <tr>\n      <td id=\"T_cfcfb_row13_col0\" class=\"data row13 col0\" >adni</td>\n      <td id=\"T_cfcfb_row13_col1\" class=\"data row13 col1\" >0</td>\n      <td id=\"T_cfcfb_row13_col2\" class=\"data row13 col2\" >noisedata</td>\n      <td id=\"T_cfcfb_row13_col3\" class=\"data row13 col3\" >0.3</td>\n      <td id=\"T_cfcfb_row13_col4\" class=\"data row13 col4\" >0.736957</td>\n      <td id=\"T_cfcfb_row13_col5\" class=\"data row13 col5\" >0.001193</td>\n    </tr>\n    <tr>\n      <td id=\"T_cfcfb_row14_col0\" class=\"data row14 col0\" >adni</td>\n      <td id=\"T_cfcfb_row14_col1\" class=\"data row14 col1\" >0</td>\n      <td id=\"T_cfcfb_row14_col2\" class=\"data row14 col2\" >noisedata</td>\n      <td id=\"T_cfcfb_row14_col3\" class=\"data row14 col3\" >0.5</td>\n      <td id=\"T_cfcfb_row14_col4\" class=\"data row14 col4\" >0.711522</td>\n      <td id=\"T_cfcfb_row14_col5\" class=\"data row14 col5\" >0.000946</td>\n    </tr>\n    <tr>\n      <td id=\"T_cfcfb_row15_col0\" class=\"data row15 col0\" ></td>\n      <td id=\"T_cfcfb_row15_col1\" class=\"data row15 col1\" ></td>\n      <td id=\"T_cfcfb_row15_col2\" class=\"data row15 col2\" ></td>\n      <td id=\"T_cfcfb_row15_col3\" class=\"data row15 col3\" ></td>\n      <td id=\"T_cfcfb_row15_col4\" class=\"data row15 col4\" ></td>\n      <td id=\"T_cfcfb_row15_col5\" class=\"data row15 col5\" ></td>\n    </tr>\n    <tr>\n      <td id=\"T_cfcfb_row16_col0\" class=\"data row16 col0\" >adni</td>\n      <td id=\"T_cfcfb_row16_col1\" class=\"data row16 col1\" >0</td>\n      <td id=\"T_cfcfb_row16_col2\" class=\"data row16 col2\" >overlapdata</td>\n      <td id=\"T_cfcfb_row16_col3\" class=\"data row16 col3\" >0.1</td>\n      <td id=\"T_cfcfb_row16_col4\" class=\"data row16 col4\" >0.655290</td>\n      <td id=\"T_cfcfb_row16_col5\" class=\"data row16 col5\" >0.014533</td>\n    </tr>\n    <tr>\n      <td id=\"T_cfcfb_row17_col0\" class=\"data row17 col0\" >adni</td>\n      <td id=\"T_cfcfb_row17_col1\" class=\"data row17 col1\" >0</td>\n      <td id=\"T_cfcfb_row17_col2\" class=\"data row17 col2\" >overlapdata</td>\n      <td id=\"T_cfcfb_row17_col3\" class=\"data row17 col3\" >0.3</td>\n      <td id=\"T_cfcfb_row17_col4\" class=\"data row17 col4\" >0.465000</td>\n      <td id=\"T_cfcfb_row17_col5\" class=\"data row17 col5\" >0.008519</td>\n    </tr>\n    <tr>\n      <td id=\"T_cfcfb_row18_col0\" class=\"data row18 col0\" >adni</td>\n      <td id=\"T_cfcfb_row18_col1\" class=\"data row18 col1\" >0</td>\n      <td id=\"T_cfcfb_row18_col2\" class=\"data row18 col2\" >overlapdata</td>\n      <td id=\"T_cfcfb_row18_col3\" class=\"data row18 col3\" >0.5</td>\n      <td id=\"T_cfcfb_row18_col4\" class=\"data row18 col4\" >0.459493</td>\n      <td id=\"T_cfcfb_row18_col5\" class=\"data row18 col5\" >0.027112</td>\n    </tr>\n    <tr>\n      <td id=\"T_cfcfb_row19_col0\" class=\"data row19 col0\" ></td>\n      <td id=\"T_cfcfb_row19_col1\" class=\"data row19 col1\" ></td>\n      <td id=\"T_cfcfb_row19_col2\" class=\"data row19 col2\" ></td>\n      <td id=\"T_cfcfb_row19_col3\" class=\"data row19 col3\" ></td>\n      <td id=\"T_cfcfb_row19_col4\" class=\"data row19 col4\" ></td>\n      <td id=\"T_cfcfb_row19_col5\" class=\"data row19 col5\" ></td>\n    </tr>\n    <tr>\n      <td id=\"T_cfcfb_row20_col0\" class=\"data row20 col0\" >adni</td>\n      <td id=\"T_cfcfb_row20_col1\" class=\"data row20 col1\" >0</td>\n      <td id=\"T_cfcfb_row20_col2\" class=\"data row20 col2\" >randomupdate</td>\n      <td id=\"T_cfcfb_row20_col3\" class=\"data row20 col3\" >0.1</td>\n      <td id=\"T_cfcfb_row20_col4\" class=\"data row20 col4\" >0.640000</td>\n      <td id=\"T_cfcfb_row20_col5\" class=\"data row20 col5\" >0.016299</td>\n    </tr>\n    <tr>\n      <td id=\"T_cfcfb_row21_col0\" class=\"data row21 col0\" >adni</td>\n      <td id=\"T_cfcfb_row21_col1\" class=\"data row21 col1\" >0</td>\n      <td id=\"T_cfcfb_row21_col2\" class=\"data row21 col2\" >randomupdate</td>\n      <td id=\"T_cfcfb_row21_col3\" class=\"data row21 col3\" >0.3</td>\n      <td id=\"T_cfcfb_row21_col4\" class=\"data row21 col4\" >0.644058</td>\n      <td id=\"T_cfcfb_row21_col5\" class=\"data row21 col5\" >0.014799</td>\n    </tr>\n    <tr>\n      <td id=\"T_cfcfb_row22_col0\" class=\"data row22 col0\" >adni</td>\n      <td id=\"T_cfcfb_row22_col1\" class=\"data row22 col1\" >0</td>\n      <td id=\"T_cfcfb_row22_col2\" class=\"data row22 col2\" >randomupdate</td>\n      <td id=\"T_cfcfb_row22_col3\" class=\"data row22 col3\" >0.5</td>\n      <td id=\"T_cfcfb_row22_col4\" class=\"data row22 col4\" >0.640290</td>\n      <td id=\"T_cfcfb_row22_col5\" class=\"data row22 col5\" >0.014577</td>\n    </tr>\n    <tr>\n      <td id=\"T_cfcfb_row23_col0\" class=\"data row23 col0\" ></td>\n      <td id=\"T_cfcfb_row23_col1\" class=\"data row23 col1\" ></td>\n      <td id=\"T_cfcfb_row23_col2\" class=\"data row23 col2\" ></td>\n      <td id=\"T_cfcfb_row23_col3\" class=\"data row23 col3\" ></td>\n      <td id=\"T_cfcfb_row23_col4\" class=\"data row23 col4\" ></td>\n      <td id=\"T_cfcfb_row23_col5\" class=\"data row23 col5\" ></td>\n    </tr>\n    <tr>\n      <td id=\"T_cfcfb_row24_col0\" class=\"data row24 col0\" >adni</td>\n      <td id=\"T_cfcfb_row24_col1\" class=\"data row24 col1\" >0</td>\n      <td id=\"T_cfcfb_row24_col2\" class=\"data row24 col2\" >signflip</td>\n      <td id=\"T_cfcfb_row24_col3\" class=\"data row24 col3\" >0.1</td>\n      <td id=\"T_cfcfb_row24_col4\" class=\"data row24 col4\" >0.344928</td>\n      <td id=\"T_cfcfb_row24_col5\" class=\"data row24 col5\" >0.000000</td>\n    </tr>\n    <tr>\n      <td id=\"T_cfcfb_row25_col0\" class=\"data row25 col0\" >adni</td>\n      <td id=\"T_cfcfb_row25_col1\" class=\"data row25 col1\" >0</td>\n      <td id=\"T_cfcfb_row25_col2\" class=\"data row25 col2\" >signflip</td>\n      <td id=\"T_cfcfb_row25_col3\" class=\"data row25 col3\" >0.3</td>\n      <td id=\"T_cfcfb_row25_col4\" class=\"data row25 col4\" >0.344928</td>\n      <td id=\"T_cfcfb_row25_col5\" class=\"data row25 col5\" >0.000000</td>\n    </tr>\n    <tr>\n      <td id=\"T_cfcfb_row26_col0\" class=\"data row26 col0\" >adni</td>\n      <td id=\"T_cfcfb_row26_col1\" class=\"data row26 col1\" >0</td>\n      <td id=\"T_cfcfb_row26_col2\" class=\"data row26 col2\" >signflip</td>\n      <td id=\"T_cfcfb_row26_col3\" class=\"data row26 col3\" >0.5</td>\n      <td id=\"T_cfcfb_row26_col4\" class=\"data row26 col4\" >0.344928</td>\n      <td id=\"T_cfcfb_row26_col5\" class=\"data row26 col5\" >0.000000</td>\n    </tr>\n    <tr>\n      <td id=\"T_cfcfb_row27_col0\" class=\"data row27 col0\" ></td>\n      <td id=\"T_cfcfb_row27_col1\" class=\"data row27 col1\" ></td>\n      <td id=\"T_cfcfb_row27_col2\" class=\"data row27 col2\" ></td>\n      <td id=\"T_cfcfb_row27_col3\" class=\"data row27 col3\" ></td>\n      <td id=\"T_cfcfb_row27_col4\" class=\"data row27 col4\" ></td>\n      <td id=\"T_cfcfb_row27_col5\" class=\"data row27 col5\" ></td>\n    </tr>\n    <tr>\n      <td id=\"T_cfcfb_row28_col0\" class=\"data row28 col0\" >adni</td>\n      <td id=\"T_cfcfb_row28_col1\" class=\"data row28 col1\" >0</td>\n      <td id=\"T_cfcfb_row28_col2\" class=\"data row28 col2\" >unbalancedata</td>\n      <td id=\"T_cfcfb_row28_col3\" class=\"data row28 col3\" >0.1</td>\n      <td id=\"T_cfcfb_row28_col4\" class=\"data row28 col4\" >0.748913</td>\n      <td id=\"T_cfcfb_row28_col5\" class=\"data row28 col5\" >0.001972</td>\n    </tr>\n    <tr>\n      <td id=\"T_cfcfb_row29_col0\" class=\"data row29 col0\" >adni</td>\n      <td id=\"T_cfcfb_row29_col1\" class=\"data row29 col1\" >0</td>\n      <td id=\"T_cfcfb_row29_col2\" class=\"data row29 col2\" >unbalancedata</td>\n      <td id=\"T_cfcfb_row29_col3\" class=\"data row29 col3\" >0.3</td>\n      <td id=\"T_cfcfb_row29_col4\" class=\"data row29 col4\" >0.745870</td>\n      <td id=\"T_cfcfb_row29_col5\" class=\"data row29 col5\" >0.001582</td>\n    </tr>\n    <tr>\n      <td id=\"T_cfcfb_row30_col0\" class=\"data row30 col0\" >adni</td>\n      <td id=\"T_cfcfb_row30_col1\" class=\"data row30 col1\" >0</td>\n      <td id=\"T_cfcfb_row30_col2\" class=\"data row30 col2\" >unbalancedata</td>\n      <td id=\"T_cfcfb_row30_col3\" class=\"data row30 col3\" >0.5</td>\n      <td id=\"T_cfcfb_row30_col4\" class=\"data row30 col4\" >0.736159</td>\n      <td id=\"T_cfcfb_row30_col5\" class=\"data row30 col5\" >0.001959</td>\n    </tr>\n  </tbody>\n</table>\n"
     },
     "metadata": {},
     "output_type": "display_data"
    }
   ],
   "source": [
    "fed_avg_results =  df[df['aggregator'] == 'fedavg']\n",
    "fed_avg_results = fed_avg_results[fed_avg_results['attack']!='clean']\n",
    "\n",
    "group_and_show(fed_avg_results, 'attack', ['aggregator'])"
   ],
   "metadata": {
    "collapsed": false,
    "pycharm": {
     "name": "#%%\n"
    }
   }
  },
  {
   "cell_type": "markdown",
   "source": [
    "#\n",
    "#\n",
    "### Comparison of aggregators against attacks\n"
   ],
   "metadata": {
    "collapsed": false
   }
  },
  {
   "cell_type": "code",
   "execution_count": 93,
   "outputs": [
    {
     "data": {
      "text/plain": "<IPython.core.display.HTML object>",
      "text/html": "<br/><h3>non iid degree: 0</h3>"
     },
     "metadata": {},
     "output_type": "display_data"
    },
    {
     "data": {
      "text/plain": "<pandas.io.formats.style.Styler at 0x1102c113f10>",
      "text/html": "<style type=\"text/css\">\n#T_db84b_row0_col0, #T_db84b_row0_col1, #T_db84b_row0_col2, #T_db84b_row0_col3, #T_db84b_row0_col4, #T_db84b_row0_col5, #T_db84b_row1_col0, #T_db84b_row1_col1, #T_db84b_row1_col2, #T_db84b_row1_col3, #T_db84b_row1_col4, #T_db84b_row1_col5, #T_db84b_row2_col0, #T_db84b_row2_col1, #T_db84b_row2_col2, #T_db84b_row2_col3, #T_db84b_row2_col4, #T_db84b_row2_col5, #T_db84b_row3_col0, #T_db84b_row3_col1, #T_db84b_row3_col2, #T_db84b_row3_col3, #T_db84b_row3_col4, #T_db84b_row3_col5, #T_db84b_row4_col0, #T_db84b_row4_col1, #T_db84b_row4_col2, #T_db84b_row4_col3, #T_db84b_row4_col4, #T_db84b_row4_col5, #T_db84b_row5_col0, #T_db84b_row5_col1, #T_db84b_row5_col2, #T_db84b_row5_col3, #T_db84b_row5_col4, #T_db84b_row5_col5, #T_db84b_row6_col0, #T_db84b_row6_col1, #T_db84b_row6_col2, #T_db84b_row6_col3, #T_db84b_row6_col4, #T_db84b_row6_col5, #T_db84b_row7_col0, #T_db84b_row7_col1, #T_db84b_row7_col2, #T_db84b_row7_col3, #T_db84b_row7_col4, #T_db84b_row7_col5, #T_db84b_row8_col0, #T_db84b_row8_col1, #T_db84b_row8_col2, #T_db84b_row8_col3, #T_db84b_row8_col4, #T_db84b_row8_col5, #T_db84b_row9_col0, #T_db84b_row9_col1, #T_db84b_row9_col2, #T_db84b_row9_col3, #T_db84b_row9_col4, #T_db84b_row9_col5, #T_db84b_row10_col0, #T_db84b_row10_col1, #T_db84b_row10_col2, #T_db84b_row10_col3, #T_db84b_row10_col4, #T_db84b_row10_col5, #T_db84b_row11_col0, #T_db84b_row11_col1, #T_db84b_row11_col2, #T_db84b_row11_col3, #T_db84b_row11_col4, #T_db84b_row11_col5, #T_db84b_row13_col0, #T_db84b_row13_col1, #T_db84b_row13_col2, #T_db84b_row13_col3, #T_db84b_row13_col4, #T_db84b_row13_col5, #T_db84b_row14_col0, #T_db84b_row14_col1, #T_db84b_row14_col2, #T_db84b_row14_col3, #T_db84b_row14_col4, #T_db84b_row14_col5, #T_db84b_row15_col0, #T_db84b_row15_col1, #T_db84b_row15_col2, #T_db84b_row15_col3, #T_db84b_row15_col4, #T_db84b_row15_col5, #T_db84b_row16_col0, #T_db84b_row16_col1, #T_db84b_row16_col2, #T_db84b_row16_col3, #T_db84b_row16_col4, #T_db84b_row16_col5, #T_db84b_row17_col0, #T_db84b_row17_col1, #T_db84b_row17_col2, #T_db84b_row17_col3, #T_db84b_row17_col4, #T_db84b_row17_col5, #T_db84b_row18_col0, #T_db84b_row18_col1, #T_db84b_row18_col2, #T_db84b_row18_col3, #T_db84b_row18_col4, #T_db84b_row18_col5, #T_db84b_row19_col0, #T_db84b_row19_col1, #T_db84b_row19_col2, #T_db84b_row19_col3, #T_db84b_row19_col4, #T_db84b_row19_col5, #T_db84b_row20_col0, #T_db84b_row20_col1, #T_db84b_row20_col2, #T_db84b_row20_col3, #T_db84b_row20_col4, #T_db84b_row20_col5, #T_db84b_row21_col0, #T_db84b_row21_col1, #T_db84b_row21_col2, #T_db84b_row21_col3, #T_db84b_row21_col4, #T_db84b_row21_col5, #T_db84b_row22_col0, #T_db84b_row22_col1, #T_db84b_row22_col2, #T_db84b_row22_col3, #T_db84b_row22_col4, #T_db84b_row22_col5, #T_db84b_row23_col0, #T_db84b_row23_col1, #T_db84b_row23_col2, #T_db84b_row23_col3, #T_db84b_row23_col4, #T_db84b_row23_col5, #T_db84b_row24_col0, #T_db84b_row24_col1, #T_db84b_row24_col2, #T_db84b_row24_col3, #T_db84b_row24_col4, #T_db84b_row24_col5, #T_db84b_row26_col0, #T_db84b_row26_col1, #T_db84b_row26_col2, #T_db84b_row26_col3, #T_db84b_row26_col4, #T_db84b_row26_col5, #T_db84b_row27_col0, #T_db84b_row27_col1, #T_db84b_row27_col2, #T_db84b_row27_col3, #T_db84b_row27_col4, #T_db84b_row27_col5, #T_db84b_row28_col0, #T_db84b_row28_col1, #T_db84b_row28_col2, #T_db84b_row28_col3, #T_db84b_row28_col4, #T_db84b_row28_col5, #T_db84b_row29_col0, #T_db84b_row29_col1, #T_db84b_row29_col2, #T_db84b_row29_col3, #T_db84b_row29_col4, #T_db84b_row29_col5, #T_db84b_row30_col0, #T_db84b_row30_col1, #T_db84b_row30_col2, #T_db84b_row30_col3, #T_db84b_row30_col4, #T_db84b_row30_col5, #T_db84b_row31_col0, #T_db84b_row31_col1, #T_db84b_row31_col2, #T_db84b_row31_col3, #T_db84b_row31_col4, #T_db84b_row31_col5, #T_db84b_row32_col0, #T_db84b_row32_col1, #T_db84b_row32_col2, #T_db84b_row32_col3, #T_db84b_row32_col4, #T_db84b_row32_col5, #T_db84b_row33_col0, #T_db84b_row33_col1, #T_db84b_row33_col2, #T_db84b_row33_col3, #T_db84b_row33_col4, #T_db84b_row33_col5, #T_db84b_row34_col0, #T_db84b_row34_col1, #T_db84b_row34_col2, #T_db84b_row34_col3, #T_db84b_row34_col4, #T_db84b_row34_col5, #T_db84b_row35_col0, #T_db84b_row35_col1, #T_db84b_row35_col2, #T_db84b_row35_col3, #T_db84b_row35_col4, #T_db84b_row35_col5, #T_db84b_row36_col0, #T_db84b_row36_col1, #T_db84b_row36_col2, #T_db84b_row36_col3, #T_db84b_row36_col4, #T_db84b_row36_col5, #T_db84b_row37_col0, #T_db84b_row37_col1, #T_db84b_row37_col2, #T_db84b_row37_col3, #T_db84b_row37_col4, #T_db84b_row37_col5, #T_db84b_row39_col0, #T_db84b_row39_col1, #T_db84b_row39_col2, #T_db84b_row39_col3, #T_db84b_row39_col4, #T_db84b_row39_col5, #T_db84b_row40_col0, #T_db84b_row40_col1, #T_db84b_row40_col2, #T_db84b_row40_col3, #T_db84b_row40_col4, #T_db84b_row40_col5, #T_db84b_row41_col0, #T_db84b_row41_col1, #T_db84b_row41_col2, #T_db84b_row41_col3, #T_db84b_row41_col4, #T_db84b_row41_col5, #T_db84b_row42_col0, #T_db84b_row42_col1, #T_db84b_row42_col2, #T_db84b_row42_col3, #T_db84b_row42_col4, #T_db84b_row42_col5, #T_db84b_row43_col0, #T_db84b_row43_col1, #T_db84b_row43_col2, #T_db84b_row43_col3, #T_db84b_row43_col4, #T_db84b_row43_col5, #T_db84b_row44_col0, #T_db84b_row44_col1, #T_db84b_row44_col2, #T_db84b_row44_col3, #T_db84b_row44_col4, #T_db84b_row44_col5, #T_db84b_row45_col0, #T_db84b_row45_col1, #T_db84b_row45_col2, #T_db84b_row45_col3, #T_db84b_row45_col4, #T_db84b_row45_col5, #T_db84b_row46_col0, #T_db84b_row46_col1, #T_db84b_row46_col2, #T_db84b_row46_col3, #T_db84b_row46_col4, #T_db84b_row46_col5, #T_db84b_row47_col0, #T_db84b_row47_col1, #T_db84b_row47_col2, #T_db84b_row47_col3, #T_db84b_row47_col4, #T_db84b_row47_col5, #T_db84b_row48_col0, #T_db84b_row48_col1, #T_db84b_row48_col2, #T_db84b_row48_col3, #T_db84b_row48_col4, #T_db84b_row48_col5, #T_db84b_row49_col0, #T_db84b_row49_col1, #T_db84b_row49_col2, #T_db84b_row49_col3, #T_db84b_row49_col4, #T_db84b_row49_col5, #T_db84b_row50_col0, #T_db84b_row50_col1, #T_db84b_row50_col2, #T_db84b_row50_col3, #T_db84b_row50_col4, #T_db84b_row50_col5, #T_db84b_row52_col0, #T_db84b_row52_col1, #T_db84b_row52_col2, #T_db84b_row52_col3, #T_db84b_row52_col4, #T_db84b_row52_col5, #T_db84b_row53_col0, #T_db84b_row53_col1, #T_db84b_row53_col2, #T_db84b_row53_col3, #T_db84b_row53_col4, #T_db84b_row53_col5, #T_db84b_row54_col0, #T_db84b_row54_col1, #T_db84b_row54_col2, #T_db84b_row54_col3, #T_db84b_row54_col4, #T_db84b_row54_col5, #T_db84b_row55_col0, #T_db84b_row55_col1, #T_db84b_row55_col2, #T_db84b_row55_col3, #T_db84b_row55_col4, #T_db84b_row55_col5, #T_db84b_row56_col0, #T_db84b_row56_col1, #T_db84b_row56_col2, #T_db84b_row56_col3, #T_db84b_row56_col4, #T_db84b_row56_col5, #T_db84b_row57_col0, #T_db84b_row57_col1, #T_db84b_row57_col2, #T_db84b_row57_col3, #T_db84b_row57_col4, #T_db84b_row57_col5, #T_db84b_row58_col0, #T_db84b_row58_col1, #T_db84b_row58_col2, #T_db84b_row58_col3, #T_db84b_row58_col4, #T_db84b_row58_col5, #T_db84b_row59_col0, #T_db84b_row59_col1, #T_db84b_row59_col2, #T_db84b_row59_col3, #T_db84b_row59_col4, #T_db84b_row59_col5, #T_db84b_row60_col0, #T_db84b_row60_col1, #T_db84b_row60_col2, #T_db84b_row60_col3, #T_db84b_row60_col4, #T_db84b_row60_col5, #T_db84b_row61_col0, #T_db84b_row61_col1, #T_db84b_row61_col2, #T_db84b_row61_col3, #T_db84b_row61_col4, #T_db84b_row61_col5, #T_db84b_row62_col0, #T_db84b_row62_col1, #T_db84b_row62_col2, #T_db84b_row62_col3, #T_db84b_row62_col4, #T_db84b_row62_col5, #T_db84b_row63_col0, #T_db84b_row63_col1, #T_db84b_row63_col2, #T_db84b_row63_col3, #T_db84b_row63_col4, #T_db84b_row63_col5, #T_db84b_row65_col0, #T_db84b_row65_col1, #T_db84b_row65_col2, #T_db84b_row65_col3, #T_db84b_row65_col4, #T_db84b_row65_col5, #T_db84b_row66_col0, #T_db84b_row66_col1, #T_db84b_row66_col2, #T_db84b_row66_col3, #T_db84b_row66_col4, #T_db84b_row66_col5, #T_db84b_row67_col0, #T_db84b_row67_col1, #T_db84b_row67_col2, #T_db84b_row67_col3, #T_db84b_row67_col4, #T_db84b_row67_col5, #T_db84b_row68_col0, #T_db84b_row68_col1, #T_db84b_row68_col2, #T_db84b_row68_col3, #T_db84b_row68_col4, #T_db84b_row68_col5, #T_db84b_row69_col0, #T_db84b_row69_col1, #T_db84b_row69_col2, #T_db84b_row69_col3, #T_db84b_row69_col4, #T_db84b_row69_col5, #T_db84b_row70_col0, #T_db84b_row70_col1, #T_db84b_row70_col2, #T_db84b_row70_col3, #T_db84b_row70_col4, #T_db84b_row70_col5, #T_db84b_row71_col0, #T_db84b_row71_col1, #T_db84b_row71_col2, #T_db84b_row71_col3, #T_db84b_row71_col4, #T_db84b_row71_col5, #T_db84b_row72_col0, #T_db84b_row72_col1, #T_db84b_row72_col2, #T_db84b_row72_col3, #T_db84b_row72_col4, #T_db84b_row72_col5, #T_db84b_row73_col0, #T_db84b_row73_col1, #T_db84b_row73_col2, #T_db84b_row73_col3, #T_db84b_row73_col4, #T_db84b_row73_col5, #T_db84b_row74_col0, #T_db84b_row74_col1, #T_db84b_row74_col2, #T_db84b_row74_col3, #T_db84b_row74_col4, #T_db84b_row74_col5, #T_db84b_row75_col0, #T_db84b_row75_col1, #T_db84b_row75_col2, #T_db84b_row75_col3, #T_db84b_row75_col4, #T_db84b_row75_col5, #T_db84b_row76_col0, #T_db84b_row76_col1, #T_db84b_row76_col2, #T_db84b_row76_col3, #T_db84b_row76_col4, #T_db84b_row76_col5, #T_db84b_row78_col0, #T_db84b_row78_col1, #T_db84b_row78_col2, #T_db84b_row78_col3, #T_db84b_row78_col4, #T_db84b_row78_col5, #T_db84b_row79_col0, #T_db84b_row79_col1, #T_db84b_row79_col2, #T_db84b_row79_col3, #T_db84b_row79_col4, #T_db84b_row79_col5, #T_db84b_row80_col0, #T_db84b_row80_col1, #T_db84b_row80_col2, #T_db84b_row80_col3, #T_db84b_row80_col4, #T_db84b_row80_col5, #T_db84b_row81_col0, #T_db84b_row81_col1, #T_db84b_row81_col2, #T_db84b_row81_col3, #T_db84b_row81_col4, #T_db84b_row81_col5, #T_db84b_row82_col0, #T_db84b_row82_col1, #T_db84b_row82_col2, #T_db84b_row82_col3, #T_db84b_row82_col4, #T_db84b_row82_col5, #T_db84b_row83_col0, #T_db84b_row83_col1, #T_db84b_row83_col2, #T_db84b_row83_col3, #T_db84b_row83_col4, #T_db84b_row83_col5, #T_db84b_row84_col0, #T_db84b_row84_col1, #T_db84b_row84_col2, #T_db84b_row84_col3, #T_db84b_row84_col4, #T_db84b_row84_col5, #T_db84b_row85_col0, #T_db84b_row85_col1, #T_db84b_row85_col2, #T_db84b_row85_col3, #T_db84b_row85_col4, #T_db84b_row85_col5, #T_db84b_row86_col0, #T_db84b_row86_col1, #T_db84b_row86_col2, #T_db84b_row86_col3, #T_db84b_row86_col4, #T_db84b_row86_col5, #T_db84b_row87_col0, #T_db84b_row87_col1, #T_db84b_row87_col2, #T_db84b_row87_col3, #T_db84b_row87_col4, #T_db84b_row87_col5, #T_db84b_row88_col0, #T_db84b_row88_col1, #T_db84b_row88_col2, #T_db84b_row88_col3, #T_db84b_row88_col4, #T_db84b_row88_col5, #T_db84b_row89_col0, #T_db84b_row89_col1, #T_db84b_row89_col2, #T_db84b_row89_col3, #T_db84b_row89_col4, #T_db84b_row89_col5, #T_db84b_row91_col0, #T_db84b_row91_col1, #T_db84b_row91_col2, #T_db84b_row91_col3, #T_db84b_row91_col4, #T_db84b_row91_col5, #T_db84b_row92_col0, #T_db84b_row92_col1, #T_db84b_row92_col2, #T_db84b_row92_col3, #T_db84b_row92_col4, #T_db84b_row92_col5, #T_db84b_row93_col0, #T_db84b_row93_col1, #T_db84b_row93_col2, #T_db84b_row93_col3, #T_db84b_row93_col4, #T_db84b_row93_col5, #T_db84b_row94_col0, #T_db84b_row94_col1, #T_db84b_row94_col2, #T_db84b_row94_col3, #T_db84b_row94_col4, #T_db84b_row94_col5, #T_db84b_row95_col0, #T_db84b_row95_col1, #T_db84b_row95_col2, #T_db84b_row95_col3, #T_db84b_row95_col4, #T_db84b_row95_col5, #T_db84b_row96_col0, #T_db84b_row96_col1, #T_db84b_row96_col2, #T_db84b_row96_col3, #T_db84b_row96_col4, #T_db84b_row96_col5, #T_db84b_row97_col0, #T_db84b_row97_col1, #T_db84b_row97_col2, #T_db84b_row97_col3, #T_db84b_row97_col4, #T_db84b_row97_col5, #T_db84b_row98_col0, #T_db84b_row98_col1, #T_db84b_row98_col2, #T_db84b_row98_col3, #T_db84b_row98_col4, #T_db84b_row98_col5, #T_db84b_row99_col0, #T_db84b_row99_col1, #T_db84b_row99_col2, #T_db84b_row99_col3, #T_db84b_row99_col4, #T_db84b_row99_col5, #T_db84b_row100_col0, #T_db84b_row100_col1, #T_db84b_row100_col2, #T_db84b_row100_col3, #T_db84b_row100_col4, #T_db84b_row100_col5, #T_db84b_row101_col0, #T_db84b_row101_col1, #T_db84b_row101_col2, #T_db84b_row101_col3, #T_db84b_row101_col4, #T_db84b_row101_col5, #T_db84b_row102_col0, #T_db84b_row102_col1, #T_db84b_row102_col2, #T_db84b_row102_col3, #T_db84b_row102_col4, #T_db84b_row102_col5 {\n  font-size: .8rem;\n}\n#T_db84b_row12_col0, #T_db84b_row12_col1, #T_db84b_row12_col2, #T_db84b_row12_col3, #T_db84b_row12_col4, #T_db84b_row12_col5, #T_db84b_row25_col0, #T_db84b_row25_col1, #T_db84b_row25_col2, #T_db84b_row25_col3, #T_db84b_row25_col4, #T_db84b_row25_col5, #T_db84b_row38_col0, #T_db84b_row38_col1, #T_db84b_row38_col2, #T_db84b_row38_col3, #T_db84b_row38_col4, #T_db84b_row38_col5, #T_db84b_row51_col0, #T_db84b_row51_col1, #T_db84b_row51_col2, #T_db84b_row51_col3, #T_db84b_row51_col4, #T_db84b_row51_col5, #T_db84b_row64_col0, #T_db84b_row64_col1, #T_db84b_row64_col2, #T_db84b_row64_col3, #T_db84b_row64_col4, #T_db84b_row64_col5, #T_db84b_row77_col0, #T_db84b_row77_col1, #T_db84b_row77_col2, #T_db84b_row77_col3, #T_db84b_row77_col4, #T_db84b_row77_col5, #T_db84b_row90_col0, #T_db84b_row90_col1, #T_db84b_row90_col2, #T_db84b_row90_col3, #T_db84b_row90_col4, #T_db84b_row90_col5 {\n  font-size: .8rem;\n  background-color: #e0e2e5;\n}\n</style>\n<table id=\"T_db84b_\">\n  <thead>\n    <tr>\n      <th class=\"col_heading level0 col0\" >dataset</th>\n      <th class=\"col_heading level0 col1\" >aggregator</th>\n      <th class=\"col_heading level0 col2\" >attack</th>\n      <th class=\"col_heading level0 col3\" >fraction</th>\n      <th class=\"col_heading level0 col4\" >accuracy_m</th>\n      <th class=\"col_heading level0 col5\" >accuracy_s</th>\n    </tr>\n  </thead>\n  <tbody>\n    <tr>\n      <td id=\"T_db84b_row0_col0\" class=\"data row0 col0\" >adni</td>\n      <td id=\"T_db84b_row0_col1\" class=\"data row0 col1\" >fedavg</td>\n      <td id=\"T_db84b_row0_col2\" class=\"data row0 col2\" >backdoor</td>\n      <td id=\"T_db84b_row0_col3\" class=\"data row0 col3\" >0.1</td>\n      <td id=\"T_db84b_row0_col4\" class=\"data row0 col4\" >0.985465</td>\n      <td id=\"T_db84b_row0_col5\" class=\"data row0 col5\" >0.085722</td>\n    </tr>\n    <tr>\n      <td id=\"T_db84b_row1_col0\" class=\"data row1 col0\" >adni</td>\n      <td id=\"T_db84b_row1_col1\" class=\"data row1 col1\" >krum</td>\n      <td id=\"T_db84b_row1_col2\" class=\"data row1 col2\" >backdoor</td>\n      <td id=\"T_db84b_row1_col3\" class=\"data row1 col3\" >0.1</td>\n      <td id=\"T_db84b_row1_col4\" class=\"data row1 col4\" >0.505814</td>\n      <td id=\"T_db84b_row1_col5\" class=\"data row1 col5\" >0.004243</td>\n    </tr>\n    <tr>\n      <td id=\"T_db84b_row2_col0\" class=\"data row2 col0\" >adni</td>\n      <td id=\"T_db84b_row2_col1\" class=\"data row2 col1\" >median</td>\n      <td id=\"T_db84b_row2_col2\" class=\"data row2 col2\" >backdoor</td>\n      <td id=\"T_db84b_row2_col3\" class=\"data row2 col3\" >0.1</td>\n      <td id=\"T_db84b_row2_col4\" class=\"data row2 col4\" >0.921512</td>\n      <td id=\"T_db84b_row2_col5\" class=\"data row2 col5\" >0.003466</td>\n    </tr>\n    <tr>\n      <td id=\"T_db84b_row3_col0\" class=\"data row3 col0\" >adni</td>\n      <td id=\"T_db84b_row3_col1\" class=\"data row3 col1\" >trimmedmean</td>\n      <td id=\"T_db84b_row3_col2\" class=\"data row3 col2\" >backdoor</td>\n      <td id=\"T_db84b_row3_col3\" class=\"data row3 col3\" >0.1</td>\n      <td id=\"T_db84b_row3_col4\" class=\"data row3 col4\" >0.952035</td>\n      <td id=\"T_db84b_row3_col5\" class=\"data row3 col5\" >0.005169</td>\n    </tr>\n    <tr>\n      <td id=\"T_db84b_row4_col0\" class=\"data row4 col0\" >adni</td>\n      <td id=\"T_db84b_row4_col1\" class=\"data row4 col1\" >median</td>\n      <td id=\"T_db84b_row4_col2\" class=\"data row4 col2\" >backdoor</td>\n      <td id=\"T_db84b_row4_col3\" class=\"data row4 col3\" >0.3</td>\n      <td id=\"T_db84b_row4_col4\" class=\"data row4 col4\" >0.985465</td>\n      <td id=\"T_db84b_row4_col5\" class=\"data row4 col5\" >0.001506</td>\n    </tr>\n    <tr>\n      <td id=\"T_db84b_row5_col0\" class=\"data row5 col0\" >adni</td>\n      <td id=\"T_db84b_row5_col1\" class=\"data row5 col1\" >trimmedmean</td>\n      <td id=\"T_db84b_row5_col2\" class=\"data row5 col2\" >backdoor</td>\n      <td id=\"T_db84b_row5_col3\" class=\"data row5 col3\" >0.3</td>\n      <td id=\"T_db84b_row5_col4\" class=\"data row5 col4\" >0.985465</td>\n      <td id=\"T_db84b_row5_col5\" class=\"data row5 col5\" >0.002318</td>\n    </tr>\n    <tr>\n      <td id=\"T_db84b_row6_col0\" class=\"data row6 col0\" >adni</td>\n      <td id=\"T_db84b_row6_col1\" class=\"data row6 col1\" >fedavg</td>\n      <td id=\"T_db84b_row6_col2\" class=\"data row6 col2\" >backdoor</td>\n      <td id=\"T_db84b_row6_col3\" class=\"data row6 col3\" >0.3</td>\n      <td id=\"T_db84b_row6_col4\" class=\"data row6 col4\" >1.000000</td>\n      <td id=\"T_db84b_row6_col5\" class=\"data row6 col5\" >0.000000</td>\n    </tr>\n    <tr>\n      <td id=\"T_db84b_row7_col0\" class=\"data row7 col0\" >adni</td>\n      <td id=\"T_db84b_row7_col1\" class=\"data row7 col1\" >krum</td>\n      <td id=\"T_db84b_row7_col2\" class=\"data row7 col2\" >backdoor</td>\n      <td id=\"T_db84b_row7_col3\" class=\"data row7 col3\" >0.3</td>\n      <td id=\"T_db84b_row7_col4\" class=\"data row7 col4\" >0.500000</td>\n      <td id=\"T_db84b_row7_col5\" class=\"data row7 col5\" >0.018605</td>\n    </tr>\n    <tr>\n      <td id=\"T_db84b_row8_col0\" class=\"data row8 col0\" >adni</td>\n      <td id=\"T_db84b_row8_col1\" class=\"data row8 col1\" >trimmedmean</td>\n      <td id=\"T_db84b_row8_col2\" class=\"data row8 col2\" >backdoor</td>\n      <td id=\"T_db84b_row8_col3\" class=\"data row8 col3\" >0.5</td>\n      <td id=\"T_db84b_row8_col4\" class=\"data row8 col4\" >1.000000</td>\n      <td id=\"T_db84b_row8_col5\" class=\"data row8 col5\" >0.000000</td>\n    </tr>\n    <tr>\n      <td id=\"T_db84b_row9_col0\" class=\"data row9 col0\" >adni</td>\n      <td id=\"T_db84b_row9_col1\" class=\"data row9 col1\" >fedavg</td>\n      <td id=\"T_db84b_row9_col2\" class=\"data row9 col2\" >backdoor</td>\n      <td id=\"T_db84b_row9_col3\" class=\"data row9 col3\" >0.5</td>\n      <td id=\"T_db84b_row9_col4\" class=\"data row9 col4\" >1.000000</td>\n      <td id=\"T_db84b_row9_col5\" class=\"data row9 col5\" >0.000000</td>\n    </tr>\n    <tr>\n      <td id=\"T_db84b_row10_col0\" class=\"data row10 col0\" >adni</td>\n      <td id=\"T_db84b_row10_col1\" class=\"data row10 col1\" >krum</td>\n      <td id=\"T_db84b_row10_col2\" class=\"data row10 col2\" >backdoor</td>\n      <td id=\"T_db84b_row10_col3\" class=\"data row10 col3\" >0.5</td>\n      <td id=\"T_db84b_row10_col4\" class=\"data row10 col4\" >0.610465</td>\n      <td id=\"T_db84b_row10_col5\" class=\"data row10 col5\" >0.010019</td>\n    </tr>\n    <tr>\n      <td id=\"T_db84b_row11_col0\" class=\"data row11 col0\" >adni</td>\n      <td id=\"T_db84b_row11_col1\" class=\"data row11 col1\" >median</td>\n      <td id=\"T_db84b_row11_col2\" class=\"data row11 col2\" >backdoor</td>\n      <td id=\"T_db84b_row11_col3\" class=\"data row11 col3\" >0.5</td>\n      <td id=\"T_db84b_row11_col4\" class=\"data row11 col4\" >1.000000</td>\n      <td id=\"T_db84b_row11_col5\" class=\"data row11 col5\" >0.000000</td>\n    </tr>\n    <tr>\n      <td id=\"T_db84b_row12_col0\" class=\"data row12 col0\" ></td>\n      <td id=\"T_db84b_row12_col1\" class=\"data row12 col1\" ></td>\n      <td id=\"T_db84b_row12_col2\" class=\"data row12 col2\" ></td>\n      <td id=\"T_db84b_row12_col3\" class=\"data row12 col3\" ></td>\n      <td id=\"T_db84b_row12_col4\" class=\"data row12 col4\" ></td>\n      <td id=\"T_db84b_row12_col5\" class=\"data row12 col5\" ></td>\n    </tr>\n    <tr>\n      <td id=\"T_db84b_row13_col0\" class=\"data row13 col0\" >adni</td>\n      <td id=\"T_db84b_row13_col1\" class=\"data row13 col1\" >krum</td>\n      <td id=\"T_db84b_row13_col2\" class=\"data row13 col2\" >deletedata</td>\n      <td id=\"T_db84b_row13_col3\" class=\"data row13 col3\" >0.1</td>\n      <td id=\"T_db84b_row13_col4\" class=\"data row13 col4\" >0.616594</td>\n      <td id=\"T_db84b_row13_col5\" class=\"data row13 col5\" >0.000716</td>\n    </tr>\n    <tr>\n      <td id=\"T_db84b_row14_col0\" class=\"data row14 col0\" >adni</td>\n      <td id=\"T_db84b_row14_col1\" class=\"data row14 col1\" >median</td>\n      <td id=\"T_db84b_row14_col2\" class=\"data row14 col2\" >deletedata</td>\n      <td id=\"T_db84b_row14_col3\" class=\"data row14 col3\" >0.1</td>\n      <td id=\"T_db84b_row14_col4\" class=\"data row14 col4\" >0.750797</td>\n      <td id=\"T_db84b_row14_col5\" class=\"data row14 col5\" >0.001735</td>\n    </tr>\n    <tr>\n      <td id=\"T_db84b_row15_col0\" class=\"data row15 col0\" >adni</td>\n      <td id=\"T_db84b_row15_col1\" class=\"data row15 col1\" >fedavg</td>\n      <td id=\"T_db84b_row15_col2\" class=\"data row15 col2\" >deletedata</td>\n      <td id=\"T_db84b_row15_col3\" class=\"data row15 col3\" >0.1</td>\n      <td id=\"T_db84b_row15_col4\" class=\"data row15 col4\" >0.751884</td>\n      <td id=\"T_db84b_row15_col5\" class=\"data row15 col5\" >0.001447</td>\n    </tr>\n    <tr>\n      <td id=\"T_db84b_row16_col0\" class=\"data row16 col0\" >adni</td>\n      <td id=\"T_db84b_row16_col1\" class=\"data row16 col1\" >trimmedmean</td>\n      <td id=\"T_db84b_row16_col2\" class=\"data row16 col2\" >deletedata</td>\n      <td id=\"T_db84b_row16_col3\" class=\"data row16 col3\" >0.1</td>\n      <td id=\"T_db84b_row16_col4\" class=\"data row16 col4\" >0.748696</td>\n      <td id=\"T_db84b_row16_col5\" class=\"data row16 col5\" >0.001850</td>\n    </tr>\n    <tr>\n      <td id=\"T_db84b_row17_col0\" class=\"data row17 col0\" >adni</td>\n      <td id=\"T_db84b_row17_col1\" class=\"data row17 col1\" >median</td>\n      <td id=\"T_db84b_row17_col2\" class=\"data row17 col2\" >deletedata</td>\n      <td id=\"T_db84b_row17_col3\" class=\"data row17 col3\" >0.3</td>\n      <td id=\"T_db84b_row17_col4\" class=\"data row17 col4\" >0.746087</td>\n      <td id=\"T_db84b_row17_col5\" class=\"data row17 col5\" >0.001623</td>\n    </tr>\n    <tr>\n      <td id=\"T_db84b_row18_col0\" class=\"data row18 col0\" >adni</td>\n      <td id=\"T_db84b_row18_col1\" class=\"data row18 col1\" >trimmedmean</td>\n      <td id=\"T_db84b_row18_col2\" class=\"data row18 col2\" >deletedata</td>\n      <td id=\"T_db84b_row18_col3\" class=\"data row18 col3\" >0.3</td>\n      <td id=\"T_db84b_row18_col4\" class=\"data row18 col4\" >0.749275</td>\n      <td id=\"T_db84b_row18_col5\" class=\"data row18 col5\" >0.001529</td>\n    </tr>\n    <tr>\n      <td id=\"T_db84b_row19_col0\" class=\"data row19 col0\" >adni</td>\n      <td id=\"T_db84b_row19_col1\" class=\"data row19 col1\" >fedavg</td>\n      <td id=\"T_db84b_row19_col2\" class=\"data row19 col2\" >deletedata</td>\n      <td id=\"T_db84b_row19_col3\" class=\"data row19 col3\" >0.3</td>\n      <td id=\"T_db84b_row19_col4\" class=\"data row19 col4\" >0.749565</td>\n      <td id=\"T_db84b_row19_col5\" class=\"data row19 col5\" >0.001288</td>\n    </tr>\n    <tr>\n      <td id=\"T_db84b_row20_col0\" class=\"data row20 col0\" >adni</td>\n      <td id=\"T_db84b_row20_col1\" class=\"data row20 col1\" >krum</td>\n      <td id=\"T_db84b_row20_col2\" class=\"data row20 col2\" >deletedata</td>\n      <td id=\"T_db84b_row20_col3\" class=\"data row20 col3\" >0.3</td>\n      <td id=\"T_db84b_row20_col4\" class=\"data row20 col4\" >0.651739</td>\n      <td id=\"T_db84b_row20_col5\" class=\"data row20 col5\" >0.002291</td>\n    </tr>\n    <tr>\n      <td id=\"T_db84b_row21_col0\" class=\"data row21 col0\" >adni</td>\n      <td id=\"T_db84b_row21_col1\" class=\"data row21 col1\" >trimmedmean</td>\n      <td id=\"T_db84b_row21_col2\" class=\"data row21 col2\" >deletedata</td>\n      <td id=\"T_db84b_row21_col3\" class=\"data row21 col3\" >0.5</td>\n      <td id=\"T_db84b_row21_col4\" class=\"data row21 col4\" >0.742464</td>\n      <td id=\"T_db84b_row21_col5\" class=\"data row21 col5\" >0.001846</td>\n    </tr>\n    <tr>\n      <td id=\"T_db84b_row22_col0\" class=\"data row22 col0\" >adni</td>\n      <td id=\"T_db84b_row22_col1\" class=\"data row22 col1\" >fedavg</td>\n      <td id=\"T_db84b_row22_col2\" class=\"data row22 col2\" >deletedata</td>\n      <td id=\"T_db84b_row22_col3\" class=\"data row22 col3\" >0.5</td>\n      <td id=\"T_db84b_row22_col4\" class=\"data row22 col4\" >0.741739</td>\n      <td id=\"T_db84b_row22_col5\" class=\"data row22 col5\" >0.001475</td>\n    </tr>\n    <tr>\n      <td id=\"T_db84b_row23_col0\" class=\"data row23 col0\" >adni</td>\n      <td id=\"T_db84b_row23_col1\" class=\"data row23 col1\" >krum</td>\n      <td id=\"T_db84b_row23_col2\" class=\"data row23 col2\" >deletedata</td>\n      <td id=\"T_db84b_row23_col3\" class=\"data row23 col3\" >0.5</td>\n      <td id=\"T_db84b_row23_col4\" class=\"data row23 col4\" >0.686812</td>\n      <td id=\"T_db84b_row23_col5\" class=\"data row23 col5\" >0.001938</td>\n    </tr>\n    <tr>\n      <td id=\"T_db84b_row24_col0\" class=\"data row24 col0\" >adni</td>\n      <td id=\"T_db84b_row24_col1\" class=\"data row24 col1\" >median</td>\n      <td id=\"T_db84b_row24_col2\" class=\"data row24 col2\" >deletedata</td>\n      <td id=\"T_db84b_row24_col3\" class=\"data row24 col3\" >0.5</td>\n      <td id=\"T_db84b_row24_col4\" class=\"data row24 col4\" >0.748116</td>\n      <td id=\"T_db84b_row24_col5\" class=\"data row24 col5\" >0.001609</td>\n    </tr>\n    <tr>\n      <td id=\"T_db84b_row25_col0\" class=\"data row25 col0\" ></td>\n      <td id=\"T_db84b_row25_col1\" class=\"data row25 col1\" ></td>\n      <td id=\"T_db84b_row25_col2\" class=\"data row25 col2\" ></td>\n      <td id=\"T_db84b_row25_col3\" class=\"data row25 col3\" ></td>\n      <td id=\"T_db84b_row25_col4\" class=\"data row25 col4\" ></td>\n      <td id=\"T_db84b_row25_col5\" class=\"data row25 col5\" ></td>\n    </tr>\n    <tr>\n      <td id=\"T_db84b_row26_col0\" class=\"data row26 col0\" >adni</td>\n      <td id=\"T_db84b_row26_col1\" class=\"data row26 col1\" >median</td>\n      <td id=\"T_db84b_row26_col2\" class=\"data row26 col2\" >labelflip</td>\n      <td id=\"T_db84b_row26_col3\" class=\"data row26 col3\" >0.1</td>\n      <td id=\"T_db84b_row26_col4\" class=\"data row26 col4\" >0.695870</td>\n      <td id=\"T_db84b_row26_col5\" class=\"data row26 col5\" >0.002592</td>\n    </tr>\n    <tr>\n      <td id=\"T_db84b_row27_col0\" class=\"data row27 col0\" >adni</td>\n      <td id=\"T_db84b_row27_col1\" class=\"data row27 col1\" >krum</td>\n      <td id=\"T_db84b_row27_col2\" class=\"data row27 col2\" >labelflip</td>\n      <td id=\"T_db84b_row27_col3\" class=\"data row27 col3\" >0.1</td>\n      <td id=\"T_db84b_row27_col4\" class=\"data row27 col4\" >0.610580</td>\n      <td id=\"T_db84b_row27_col5\" class=\"data row27 col5\" >0.000499</td>\n    </tr>\n    <tr>\n      <td id=\"T_db84b_row28_col0\" class=\"data row28 col0\" >adni</td>\n      <td id=\"T_db84b_row28_col1\" class=\"data row28 col1\" >trimmedmean</td>\n      <td id=\"T_db84b_row28_col2\" class=\"data row28 col2\" >labelflip</td>\n      <td id=\"T_db84b_row28_col3\" class=\"data row28 col3\" >0.1</td>\n      <td id=\"T_db84b_row28_col4\" class=\"data row28 col4\" >0.689710</td>\n      <td id=\"T_db84b_row28_col5\" class=\"data row28 col5\" >0.002155</td>\n    </tr>\n    <tr>\n      <td id=\"T_db84b_row29_col0\" class=\"data row29 col0\" >adni</td>\n      <td id=\"T_db84b_row29_col1\" class=\"data row29 col1\" >fedavg</td>\n      <td id=\"T_db84b_row29_col2\" class=\"data row29 col2\" >labelflip</td>\n      <td id=\"T_db84b_row29_col3\" class=\"data row29 col3\" >0.1</td>\n      <td id=\"T_db84b_row29_col4\" class=\"data row29 col4\" >0.690217</td>\n      <td id=\"T_db84b_row29_col5\" class=\"data row29 col5\" >0.001519</td>\n    </tr>\n    <tr>\n      <td id=\"T_db84b_row30_col0\" class=\"data row30 col0\" >adni</td>\n      <td id=\"T_db84b_row30_col1\" class=\"data row30 col1\" >median</td>\n      <td id=\"T_db84b_row30_col2\" class=\"data row30 col2\" >labelflip</td>\n      <td id=\"T_db84b_row30_col3\" class=\"data row30 col3\" >0.3</td>\n      <td id=\"T_db84b_row30_col4\" class=\"data row30 col4\" >0.609783</td>\n      <td id=\"T_db84b_row30_col5\" class=\"data row30 col5\" >0.003113</td>\n    </tr>\n    <tr>\n      <td id=\"T_db84b_row31_col0\" class=\"data row31 col0\" >adni</td>\n      <td id=\"T_db84b_row31_col1\" class=\"data row31 col1\" >trimmedmean</td>\n      <td id=\"T_db84b_row31_col2\" class=\"data row31 col2\" >labelflip</td>\n      <td id=\"T_db84b_row31_col3\" class=\"data row31 col3\" >0.3</td>\n      <td id=\"T_db84b_row31_col4\" class=\"data row31 col4\" >0.604855</td>\n      <td id=\"T_db84b_row31_col5\" class=\"data row31 col5\" >0.004048</td>\n    </tr>\n    <tr>\n      <td id=\"T_db84b_row32_col0\" class=\"data row32 col0\" >adni</td>\n      <td id=\"T_db84b_row32_col1\" class=\"data row32 col1\" >fedavg</td>\n      <td id=\"T_db84b_row32_col2\" class=\"data row32 col2\" >labelflip</td>\n      <td id=\"T_db84b_row32_col3\" class=\"data row32 col3\" >0.3</td>\n      <td id=\"T_db84b_row32_col4\" class=\"data row32 col4\" >0.581377</td>\n      <td id=\"T_db84b_row32_col5\" class=\"data row32 col5\" >0.002093</td>\n    </tr>\n    <tr>\n      <td id=\"T_db84b_row33_col0\" class=\"data row33 col0\" >adni</td>\n      <td id=\"T_db84b_row33_col1\" class=\"data row33 col1\" >krum</td>\n      <td id=\"T_db84b_row33_col2\" class=\"data row33 col2\" >labelflip</td>\n      <td id=\"T_db84b_row33_col3\" class=\"data row33 col3\" >0.3</td>\n      <td id=\"T_db84b_row33_col4\" class=\"data row33 col4\" >0.590362</td>\n      <td id=\"T_db84b_row33_col5\" class=\"data row33 col5\" >0.001055</td>\n    </tr>\n    <tr>\n      <td id=\"T_db84b_row34_col0\" class=\"data row34 col0\" >adni</td>\n      <td id=\"T_db84b_row34_col1\" class=\"data row34 col1\" >trimmedmean</td>\n      <td id=\"T_db84b_row34_col2\" class=\"data row34 col2\" >labelflip</td>\n      <td id=\"T_db84b_row34_col3\" class=\"data row34 col3\" >0.5</td>\n      <td id=\"T_db84b_row34_col4\" class=\"data row34 col4\" >0.484348</td>\n      <td id=\"T_db84b_row34_col5\" class=\"data row34 col5\" >0.004438</td>\n    </tr>\n    <tr>\n      <td id=\"T_db84b_row35_col0\" class=\"data row35 col0\" >adni</td>\n      <td id=\"T_db84b_row35_col1\" class=\"data row35 col1\" >fedavg</td>\n      <td id=\"T_db84b_row35_col2\" class=\"data row35 col2\" >labelflip</td>\n      <td id=\"T_db84b_row35_col3\" class=\"data row35 col3\" >0.5</td>\n      <td id=\"T_db84b_row35_col4\" class=\"data row35 col4\" >0.540290</td>\n      <td id=\"T_db84b_row35_col5\" class=\"data row35 col5\" >0.002064</td>\n    </tr>\n    <tr>\n      <td id=\"T_db84b_row36_col0\" class=\"data row36 col0\" >adni</td>\n      <td id=\"T_db84b_row36_col1\" class=\"data row36 col1\" >krum</td>\n      <td id=\"T_db84b_row36_col2\" class=\"data row36 col2\" >labelflip</td>\n      <td id=\"T_db84b_row36_col3\" class=\"data row36 col3\" >0.5</td>\n      <td id=\"T_db84b_row36_col4\" class=\"data row36 col4\" >0.466667</td>\n      <td id=\"T_db84b_row36_col5\" class=\"data row36 col5\" >0.004037</td>\n    </tr>\n    <tr>\n      <td id=\"T_db84b_row37_col0\" class=\"data row37 col0\" >adni</td>\n      <td id=\"T_db84b_row37_col1\" class=\"data row37 col1\" >median</td>\n      <td id=\"T_db84b_row37_col2\" class=\"data row37 col2\" >labelflip</td>\n      <td id=\"T_db84b_row37_col3\" class=\"data row37 col3\" >0.5</td>\n      <td id=\"T_db84b_row37_col4\" class=\"data row37 col4\" >0.463406</td>\n      <td id=\"T_db84b_row37_col5\" class=\"data row37 col5\" >0.004499</td>\n    </tr>\n    <tr>\n      <td id=\"T_db84b_row38_col0\" class=\"data row38 col0\" ></td>\n      <td id=\"T_db84b_row38_col1\" class=\"data row38 col1\" ></td>\n      <td id=\"T_db84b_row38_col2\" class=\"data row38 col2\" ></td>\n      <td id=\"T_db84b_row38_col3\" class=\"data row38 col3\" ></td>\n      <td id=\"T_db84b_row38_col4\" class=\"data row38 col4\" ></td>\n      <td id=\"T_db84b_row38_col5\" class=\"data row38 col5\" ></td>\n    </tr>\n    <tr>\n      <td id=\"T_db84b_row39_col0\" class=\"data row39 col0\" >adni</td>\n      <td id=\"T_db84b_row39_col1\" class=\"data row39 col1\" >krum</td>\n      <td id=\"T_db84b_row39_col2\" class=\"data row39 col2\" >noisedata</td>\n      <td id=\"T_db84b_row39_col3\" class=\"data row39 col3\" >0.1</td>\n      <td id=\"T_db84b_row39_col4\" class=\"data row39 col4\" >0.660145</td>\n      <td id=\"T_db84b_row39_col5\" class=\"data row39 col5\" >0.000905</td>\n    </tr>\n    <tr>\n      <td id=\"T_db84b_row40_col0\" class=\"data row40 col0\" >adni</td>\n      <td id=\"T_db84b_row40_col1\" class=\"data row40 col1\" >trimmedmean</td>\n      <td id=\"T_db84b_row40_col2\" class=\"data row40 col2\" >noisedata</td>\n      <td id=\"T_db84b_row40_col3\" class=\"data row40 col3\" >0.1</td>\n      <td id=\"T_db84b_row40_col4\" class=\"data row40 col4\" >0.739420</td>\n      <td id=\"T_db84b_row40_col5\" class=\"data row40 col5\" >0.001715</td>\n    </tr>\n    <tr>\n      <td id=\"T_db84b_row41_col0\" class=\"data row41 col0\" >adni</td>\n      <td id=\"T_db84b_row41_col1\" class=\"data row41 col1\" >median</td>\n      <td id=\"T_db84b_row41_col2\" class=\"data row41 col2\" >noisedata</td>\n      <td id=\"T_db84b_row41_col3\" class=\"data row41 col3\" >0.1</td>\n      <td id=\"T_db84b_row41_col4\" class=\"data row41 col4\" >0.738261</td>\n      <td id=\"T_db84b_row41_col5\" class=\"data row41 col5\" >0.001546</td>\n    </tr>\n    <tr>\n      <td id=\"T_db84b_row42_col0\" class=\"data row42 col0\" >adni</td>\n      <td id=\"T_db84b_row42_col1\" class=\"data row42 col1\" >fedavg</td>\n      <td id=\"T_db84b_row42_col2\" class=\"data row42 col2\" >noisedata</td>\n      <td id=\"T_db84b_row42_col3\" class=\"data row42 col3\" >0.1</td>\n      <td id=\"T_db84b_row42_col4\" class=\"data row42 col4\" >0.737536</td>\n      <td id=\"T_db84b_row42_col5\" class=\"data row42 col5\" >0.001382</td>\n    </tr>\n    <tr>\n      <td id=\"T_db84b_row43_col0\" class=\"data row43 col0\" >adni</td>\n      <td id=\"T_db84b_row43_col1\" class=\"data row43 col1\" >median</td>\n      <td id=\"T_db84b_row43_col2\" class=\"data row43 col2\" >noisedata</td>\n      <td id=\"T_db84b_row43_col3\" class=\"data row43 col3\" >0.3</td>\n      <td id=\"T_db84b_row43_col4\" class=\"data row43 col4\" >0.723261</td>\n      <td id=\"T_db84b_row43_col5\" class=\"data row43 col5\" >0.001447</td>\n    </tr>\n    <tr>\n      <td id=\"T_db84b_row44_col0\" class=\"data row44 col0\" >adni</td>\n      <td id=\"T_db84b_row44_col1\" class=\"data row44 col1\" >trimmedmean</td>\n      <td id=\"T_db84b_row44_col2\" class=\"data row44 col2\" >noisedata</td>\n      <td id=\"T_db84b_row44_col3\" class=\"data row44 col3\" >0.3</td>\n      <td id=\"T_db84b_row44_col4\" class=\"data row44 col4\" >0.715362</td>\n      <td id=\"T_db84b_row44_col5\" class=\"data row44 col5\" >0.002359</td>\n    </tr>\n    <tr>\n      <td id=\"T_db84b_row45_col0\" class=\"data row45 col0\" >adni</td>\n      <td id=\"T_db84b_row45_col1\" class=\"data row45 col1\" >fedavg</td>\n      <td id=\"T_db84b_row45_col2\" class=\"data row45 col2\" >noisedata</td>\n      <td id=\"T_db84b_row45_col3\" class=\"data row45 col3\" >0.3</td>\n      <td id=\"T_db84b_row45_col4\" class=\"data row45 col4\" >0.736957</td>\n      <td id=\"T_db84b_row45_col5\" class=\"data row45 col5\" >0.001193</td>\n    </tr>\n    <tr>\n      <td id=\"T_db84b_row46_col0\" class=\"data row46 col0\" >adni</td>\n      <td id=\"T_db84b_row46_col1\" class=\"data row46 col1\" >krum</td>\n      <td id=\"T_db84b_row46_col2\" class=\"data row46 col2\" >noisedata</td>\n      <td id=\"T_db84b_row46_col3\" class=\"data row46 col3\" >0.3</td>\n      <td id=\"T_db84b_row46_col4\" class=\"data row46 col4\" >0.665435</td>\n      <td id=\"T_db84b_row46_col5\" class=\"data row46 col5\" >0.002733</td>\n    </tr>\n    <tr>\n      <td id=\"T_db84b_row47_col0\" class=\"data row47 col0\" >adni</td>\n      <td id=\"T_db84b_row47_col1\" class=\"data row47 col1\" >trimmedmean</td>\n      <td id=\"T_db84b_row47_col2\" class=\"data row47 col2\" >noisedata</td>\n      <td id=\"T_db84b_row47_col3\" class=\"data row47 col3\" >0.5</td>\n      <td id=\"T_db84b_row47_col4\" class=\"data row47 col4\" >0.705217</td>\n      <td id=\"T_db84b_row47_col5\" class=\"data row47 col5\" >0.002071</td>\n    </tr>\n    <tr>\n      <td id=\"T_db84b_row48_col0\" class=\"data row48 col0\" >adni</td>\n      <td id=\"T_db84b_row48_col1\" class=\"data row48 col1\" >fedavg</td>\n      <td id=\"T_db84b_row48_col2\" class=\"data row48 col2\" >noisedata</td>\n      <td id=\"T_db84b_row48_col3\" class=\"data row48 col3\" >0.5</td>\n      <td id=\"T_db84b_row48_col4\" class=\"data row48 col4\" >0.711522</td>\n      <td id=\"T_db84b_row48_col5\" class=\"data row48 col5\" >0.000946</td>\n    </tr>\n    <tr>\n      <td id=\"T_db84b_row49_col0\" class=\"data row49 col0\" >adni</td>\n      <td id=\"T_db84b_row49_col1\" class=\"data row49 col1\" >krum</td>\n      <td id=\"T_db84b_row49_col2\" class=\"data row49 col2\" >noisedata</td>\n      <td id=\"T_db84b_row49_col3\" class=\"data row49 col3\" >0.5</td>\n      <td id=\"T_db84b_row49_col4\" class=\"data row49 col4\" >0.693768</td>\n      <td id=\"T_db84b_row49_col5\" class=\"data row49 col5\" >0.002629</td>\n    </tr>\n    <tr>\n      <td id=\"T_db84b_row50_col0\" class=\"data row50 col0\" >adni</td>\n      <td id=\"T_db84b_row50_col1\" class=\"data row50 col1\" >median</td>\n      <td id=\"T_db84b_row50_col2\" class=\"data row50 col2\" >noisedata</td>\n      <td id=\"T_db84b_row50_col3\" class=\"data row50 col3\" >0.5</td>\n      <td id=\"T_db84b_row50_col4\" class=\"data row50 col4\" >0.704710</td>\n      <td id=\"T_db84b_row50_col5\" class=\"data row50 col5\" >0.002859</td>\n    </tr>\n    <tr>\n      <td id=\"T_db84b_row51_col0\" class=\"data row51 col0\" ></td>\n      <td id=\"T_db84b_row51_col1\" class=\"data row51 col1\" ></td>\n      <td id=\"T_db84b_row51_col2\" class=\"data row51 col2\" ></td>\n      <td id=\"T_db84b_row51_col3\" class=\"data row51 col3\" ></td>\n      <td id=\"T_db84b_row51_col4\" class=\"data row51 col4\" ></td>\n      <td id=\"T_db84b_row51_col5\" class=\"data row51 col5\" ></td>\n    </tr>\n    <tr>\n      <td id=\"T_db84b_row52_col0\" class=\"data row52 col0\" >adni</td>\n      <td id=\"T_db84b_row52_col1\" class=\"data row52 col1\" >trimmedmean</td>\n      <td id=\"T_db84b_row52_col2\" class=\"data row52 col2\" >overlapdata</td>\n      <td id=\"T_db84b_row52_col3\" class=\"data row52 col3\" >0.1</td>\n      <td id=\"T_db84b_row52_col4\" class=\"data row52 col4\" >0.745507</td>\n      <td id=\"T_db84b_row52_col5\" class=\"data row52 col5\" >0.003187</td>\n    </tr>\n    <tr>\n      <td id=\"T_db84b_row53_col0\" class=\"data row53 col0\" >adni</td>\n      <td id=\"T_db84b_row53_col1\" class=\"data row53 col1\" >krum</td>\n      <td id=\"T_db84b_row53_col2\" class=\"data row53 col2\" >overlapdata</td>\n      <td id=\"T_db84b_row53_col3\" class=\"data row53 col3\" >0.1</td>\n      <td id=\"T_db84b_row53_col4\" class=\"data row53 col4\" >0.626667</td>\n      <td id=\"T_db84b_row53_col5\" class=\"data row53 col5\" >0.001492</td>\n    </tr>\n    <tr>\n      <td id=\"T_db84b_row54_col0\" class=\"data row54 col0\" >adni</td>\n      <td id=\"T_db84b_row54_col1\" class=\"data row54 col1\" >fedavg</td>\n      <td id=\"T_db84b_row54_col2\" class=\"data row54 col2\" >overlapdata</td>\n      <td id=\"T_db84b_row54_col3\" class=\"data row54 col3\" >0.1</td>\n      <td id=\"T_db84b_row54_col4\" class=\"data row54 col4\" >0.655290</td>\n      <td id=\"T_db84b_row54_col5\" class=\"data row54 col5\" >0.014533</td>\n    </tr>\n    <tr>\n      <td id=\"T_db84b_row55_col0\" class=\"data row55 col0\" >adni</td>\n      <td id=\"T_db84b_row55_col1\" class=\"data row55 col1\" >median</td>\n      <td id=\"T_db84b_row55_col2\" class=\"data row55 col2\" >overlapdata</td>\n      <td id=\"T_db84b_row55_col3\" class=\"data row55 col3\" >0.1</td>\n      <td id=\"T_db84b_row55_col4\" class=\"data row55 col4\" >0.740217</td>\n      <td id=\"T_db84b_row55_col5\" class=\"data row55 col5\" >0.002696</td>\n    </tr>\n    <tr>\n      <td id=\"T_db84b_row56_col0\" class=\"data row56 col0\" >adni</td>\n      <td id=\"T_db84b_row56_col1\" class=\"data row56 col1\" >median</td>\n      <td id=\"T_db84b_row56_col2\" class=\"data row56 col2\" >overlapdata</td>\n      <td id=\"T_db84b_row56_col3\" class=\"data row56 col3\" >0.3</td>\n      <td id=\"T_db84b_row56_col4\" class=\"data row56 col4\" >0.729710</td>\n      <td id=\"T_db84b_row56_col5\" class=\"data row56 col5\" >0.004985</td>\n    </tr>\n    <tr>\n      <td id=\"T_db84b_row57_col0\" class=\"data row57 col0\" >adni</td>\n      <td id=\"T_db84b_row57_col1\" class=\"data row57 col1\" >fedavg</td>\n      <td id=\"T_db84b_row57_col2\" class=\"data row57 col2\" >overlapdata</td>\n      <td id=\"T_db84b_row57_col3\" class=\"data row57 col3\" >0.3</td>\n      <td id=\"T_db84b_row57_col4\" class=\"data row57 col4\" >0.465000</td>\n      <td id=\"T_db84b_row57_col5\" class=\"data row57 col5\" >0.008519</td>\n    </tr>\n    <tr>\n      <td id=\"T_db84b_row58_col0\" class=\"data row58 col0\" >adni</td>\n      <td id=\"T_db84b_row58_col1\" class=\"data row58 col1\" >trimmedmean</td>\n      <td id=\"T_db84b_row58_col2\" class=\"data row58 col2\" >overlapdata</td>\n      <td id=\"T_db84b_row58_col3\" class=\"data row58 col3\" >0.3</td>\n      <td id=\"T_db84b_row58_col4\" class=\"data row58 col4\" >0.735290</td>\n      <td id=\"T_db84b_row58_col5\" class=\"data row58 col5\" >0.005028</td>\n    </tr>\n    <tr>\n      <td id=\"T_db84b_row59_col0\" class=\"data row59 col0\" >adni</td>\n      <td id=\"T_db84b_row59_col1\" class=\"data row59 col1\" >krum</td>\n      <td id=\"T_db84b_row59_col2\" class=\"data row59 col2\" >overlapdata</td>\n      <td id=\"T_db84b_row59_col3\" class=\"data row59 col3\" >0.3</td>\n      <td id=\"T_db84b_row59_col4\" class=\"data row59 col4\" >0.680725</td>\n      <td id=\"T_db84b_row59_col5\" class=\"data row59 col5\" >0.000816</td>\n    </tr>\n    <tr>\n      <td id=\"T_db84b_row60_col0\" class=\"data row60 col0\" >adni</td>\n      <td id=\"T_db84b_row60_col1\" class=\"data row60 col1\" >trimmedmean</td>\n      <td id=\"T_db84b_row60_col2\" class=\"data row60 col2\" >overlapdata</td>\n      <td id=\"T_db84b_row60_col3\" class=\"data row60 col3\" >0.5</td>\n      <td id=\"T_db84b_row60_col4\" class=\"data row60 col4\" >0.640725</td>\n      <td id=\"T_db84b_row60_col5\" class=\"data row60 col5\" >0.014437</td>\n    </tr>\n    <tr>\n      <td id=\"T_db84b_row61_col0\" class=\"data row61 col0\" >adni</td>\n      <td id=\"T_db84b_row61_col1\" class=\"data row61 col1\" >fedavg</td>\n      <td id=\"T_db84b_row61_col2\" class=\"data row61 col2\" >overlapdata</td>\n      <td id=\"T_db84b_row61_col3\" class=\"data row61 col3\" >0.5</td>\n      <td id=\"T_db84b_row61_col4\" class=\"data row61 col4\" >0.459493</td>\n      <td id=\"T_db84b_row61_col5\" class=\"data row61 col5\" >0.027112</td>\n    </tr>\n    <tr>\n      <td id=\"T_db84b_row62_col0\" class=\"data row62 col0\" >adni</td>\n      <td id=\"T_db84b_row62_col1\" class=\"data row62 col1\" >krum</td>\n      <td id=\"T_db84b_row62_col2\" class=\"data row62 col2\" >overlapdata</td>\n      <td id=\"T_db84b_row62_col3\" class=\"data row62 col3\" >0.5</td>\n      <td id=\"T_db84b_row62_col4\" class=\"data row62 col4\" >0.667029</td>\n      <td id=\"T_db84b_row62_col5\" class=\"data row62 col5\" >0.003552</td>\n    </tr>\n    <tr>\n      <td id=\"T_db84b_row63_col0\" class=\"data row63 col0\" >adni</td>\n      <td id=\"T_db84b_row63_col1\" class=\"data row63 col1\" >median</td>\n      <td id=\"T_db84b_row63_col2\" class=\"data row63 col2\" >overlapdata</td>\n      <td id=\"T_db84b_row63_col3\" class=\"data row63 col3\" >0.5</td>\n      <td id=\"T_db84b_row63_col4\" class=\"data row63 col4\" >0.687826</td>\n      <td id=\"T_db84b_row63_col5\" class=\"data row63 col5\" >0.014980</td>\n    </tr>\n    <tr>\n      <td id=\"T_db84b_row64_col0\" class=\"data row64 col0\" ></td>\n      <td id=\"T_db84b_row64_col1\" class=\"data row64 col1\" ></td>\n      <td id=\"T_db84b_row64_col2\" class=\"data row64 col2\" ></td>\n      <td id=\"T_db84b_row64_col3\" class=\"data row64 col3\" ></td>\n      <td id=\"T_db84b_row64_col4\" class=\"data row64 col4\" ></td>\n      <td id=\"T_db84b_row64_col5\" class=\"data row64 col5\" ></td>\n    </tr>\n    <tr>\n      <td id=\"T_db84b_row65_col0\" class=\"data row65 col0\" >adni</td>\n      <td id=\"T_db84b_row65_col1\" class=\"data row65 col1\" >krum</td>\n      <td id=\"T_db84b_row65_col2\" class=\"data row65 col2\" >randomupdate</td>\n      <td id=\"T_db84b_row65_col3\" class=\"data row65 col3\" >0.1</td>\n      <td id=\"T_db84b_row65_col4\" class=\"data row65 col4\" >0.610725</td>\n      <td id=\"T_db84b_row65_col5\" class=\"data row65 col5\" >0.000899</td>\n    </tr>\n    <tr>\n      <td id=\"T_db84b_row66_col0\" class=\"data row66 col0\" >adni</td>\n      <td id=\"T_db84b_row66_col1\" class=\"data row66 col1\" >trimmedmean</td>\n      <td id=\"T_db84b_row66_col2\" class=\"data row66 col2\" >randomupdate</td>\n      <td id=\"T_db84b_row66_col3\" class=\"data row66 col3\" >0.1</td>\n      <td id=\"T_db84b_row66_col4\" class=\"data row66 col4\" >0.739565</td>\n      <td id=\"T_db84b_row66_col5\" class=\"data row66 col5\" >0.001187</td>\n    </tr>\n    <tr>\n      <td id=\"T_db84b_row67_col0\" class=\"data row67 col0\" >adni</td>\n      <td id=\"T_db84b_row67_col1\" class=\"data row67 col1\" >median</td>\n      <td id=\"T_db84b_row67_col2\" class=\"data row67 col2\" >randomupdate</td>\n      <td id=\"T_db84b_row67_col3\" class=\"data row67 col3\" >0.1</td>\n      <td id=\"T_db84b_row67_col4\" class=\"data row67 col4\" >0.749275</td>\n      <td id=\"T_db84b_row67_col5\" class=\"data row67 col5\" >0.001319</td>\n    </tr>\n    <tr>\n      <td id=\"T_db84b_row68_col0\" class=\"data row68 col0\" >adni</td>\n      <td id=\"T_db84b_row68_col1\" class=\"data row68 col1\" >fedavg</td>\n      <td id=\"T_db84b_row68_col2\" class=\"data row68 col2\" >randomupdate</td>\n      <td id=\"T_db84b_row68_col3\" class=\"data row68 col3\" >0.1</td>\n      <td id=\"T_db84b_row68_col4\" class=\"data row68 col4\" >0.640000</td>\n      <td id=\"T_db84b_row68_col5\" class=\"data row68 col5\" >0.016299</td>\n    </tr>\n    <tr>\n      <td id=\"T_db84b_row69_col0\" class=\"data row69 col0\" >adni</td>\n      <td id=\"T_db84b_row69_col1\" class=\"data row69 col1\" >median</td>\n      <td id=\"T_db84b_row69_col2\" class=\"data row69 col2\" >randomupdate</td>\n      <td id=\"T_db84b_row69_col3\" class=\"data row69 col3\" >0.3</td>\n      <td id=\"T_db84b_row69_col4\" class=\"data row69 col4\" >0.719203</td>\n      <td id=\"T_db84b_row69_col5\" class=\"data row69 col5\" >0.001033</td>\n    </tr>\n    <tr>\n      <td id=\"T_db84b_row70_col0\" class=\"data row70 col0\" >adni</td>\n      <td id=\"T_db84b_row70_col1\" class=\"data row70 col1\" >fedavg</td>\n      <td id=\"T_db84b_row70_col2\" class=\"data row70 col2\" >randomupdate</td>\n      <td id=\"T_db84b_row70_col3\" class=\"data row70 col3\" >0.3</td>\n      <td id=\"T_db84b_row70_col4\" class=\"data row70 col4\" >0.644058</td>\n      <td id=\"T_db84b_row70_col5\" class=\"data row70 col5\" >0.014799</td>\n    </tr>\n    <tr>\n      <td id=\"T_db84b_row71_col0\" class=\"data row71 col0\" >adni</td>\n      <td id=\"T_db84b_row71_col1\" class=\"data row71 col1\" >trimmedmean</td>\n      <td id=\"T_db84b_row71_col2\" class=\"data row71 col2\" >randomupdate</td>\n      <td id=\"T_db84b_row71_col3\" class=\"data row71 col3\" >0.3</td>\n      <td id=\"T_db84b_row71_col4\" class=\"data row71 col4\" >0.732754</td>\n      <td id=\"T_db84b_row71_col5\" class=\"data row71 col5\" >0.001200</td>\n    </tr>\n    <tr>\n      <td id=\"T_db84b_row72_col0\" class=\"data row72 col0\" >adni</td>\n      <td id=\"T_db84b_row72_col1\" class=\"data row72 col1\" >krum</td>\n      <td id=\"T_db84b_row72_col2\" class=\"data row72 col2\" >randomupdate</td>\n      <td id=\"T_db84b_row72_col3\" class=\"data row72 col3\" >0.3</td>\n      <td id=\"T_db84b_row72_col4\" class=\"data row72 col4\" >0.668841</td>\n      <td id=\"T_db84b_row72_col5\" class=\"data row72 col5\" >0.005982</td>\n    </tr>\n    <tr>\n      <td id=\"T_db84b_row73_col0\" class=\"data row73 col0\" >adni</td>\n      <td id=\"T_db84b_row73_col1\" class=\"data row73 col1\" >trimmedmean</td>\n      <td id=\"T_db84b_row73_col2\" class=\"data row73 col2\" >randomupdate</td>\n      <td id=\"T_db84b_row73_col3\" class=\"data row73 col3\" >0.5</td>\n      <td id=\"T_db84b_row73_col4\" class=\"data row73 col4\" >0.674493</td>\n      <td id=\"T_db84b_row73_col5\" class=\"data row73 col5\" >0.013621</td>\n    </tr>\n    <tr>\n      <td id=\"T_db84b_row74_col0\" class=\"data row74 col0\" >adni</td>\n      <td id=\"T_db84b_row74_col1\" class=\"data row74 col1\" >fedavg</td>\n      <td id=\"T_db84b_row74_col2\" class=\"data row74 col2\" >randomupdate</td>\n      <td id=\"T_db84b_row74_col3\" class=\"data row74 col3\" >0.5</td>\n      <td id=\"T_db84b_row74_col4\" class=\"data row74 col4\" >0.640290</td>\n      <td id=\"T_db84b_row74_col5\" class=\"data row74 col5\" >0.014577</td>\n    </tr>\n    <tr>\n      <td id=\"T_db84b_row75_col0\" class=\"data row75 col0\" >adni</td>\n      <td id=\"T_db84b_row75_col1\" class=\"data row75 col1\" >krum</td>\n      <td id=\"T_db84b_row75_col2\" class=\"data row75 col2\" >randomupdate</td>\n      <td id=\"T_db84b_row75_col3\" class=\"data row75 col3\" >0.5</td>\n      <td id=\"T_db84b_row75_col4\" class=\"data row75 col4\" >0.700145</td>\n      <td id=\"T_db84b_row75_col5\" class=\"data row75 col5\" >0.001229</td>\n    </tr>\n    <tr>\n      <td id=\"T_db84b_row76_col0\" class=\"data row76 col0\" >adni</td>\n      <td id=\"T_db84b_row76_col1\" class=\"data row76 col1\" >median</td>\n      <td id=\"T_db84b_row76_col2\" class=\"data row76 col2\" >randomupdate</td>\n      <td id=\"T_db84b_row76_col3\" class=\"data row76 col3\" >0.5</td>\n      <td id=\"T_db84b_row76_col4\" class=\"data row76 col4\" >0.652319</td>\n      <td id=\"T_db84b_row76_col5\" class=\"data row76 col5\" >0.015844</td>\n    </tr>\n    <tr>\n      <td id=\"T_db84b_row77_col0\" class=\"data row77 col0\" ></td>\n      <td id=\"T_db84b_row77_col1\" class=\"data row77 col1\" ></td>\n      <td id=\"T_db84b_row77_col2\" class=\"data row77 col2\" ></td>\n      <td id=\"T_db84b_row77_col3\" class=\"data row77 col3\" ></td>\n      <td id=\"T_db84b_row77_col4\" class=\"data row77 col4\" ></td>\n      <td id=\"T_db84b_row77_col5\" class=\"data row77 col5\" ></td>\n    </tr>\n    <tr>\n      <td id=\"T_db84b_row78_col0\" class=\"data row78 col0\" >adni</td>\n      <td id=\"T_db84b_row78_col1\" class=\"data row78 col1\" >krum</td>\n      <td id=\"T_db84b_row78_col2\" class=\"data row78 col2\" >signflip</td>\n      <td id=\"T_db84b_row78_col3\" class=\"data row78 col3\" >0.1</td>\n      <td id=\"T_db84b_row78_col4\" class=\"data row78 col4\" >0.633986</td>\n      <td id=\"T_db84b_row78_col5\" class=\"data row78 col5\" >0.001000</td>\n    </tr>\n    <tr>\n      <td id=\"T_db84b_row79_col0\" class=\"data row79 col0\" >adni</td>\n      <td id=\"T_db84b_row79_col1\" class=\"data row79 col1\" >fedavg</td>\n      <td id=\"T_db84b_row79_col2\" class=\"data row79 col2\" >signflip</td>\n      <td id=\"T_db84b_row79_col3\" class=\"data row79 col3\" >0.1</td>\n      <td id=\"T_db84b_row79_col4\" class=\"data row79 col4\" >0.344928</td>\n      <td id=\"T_db84b_row79_col5\" class=\"data row79 col5\" >0.000000</td>\n    </tr>\n    <tr>\n      <td id=\"T_db84b_row80_col0\" class=\"data row80 col0\" >adni</td>\n      <td id=\"T_db84b_row80_col1\" class=\"data row80 col1\" >trimmedmean</td>\n      <td id=\"T_db84b_row80_col2\" class=\"data row80 col2\" >signflip</td>\n      <td id=\"T_db84b_row80_col3\" class=\"data row80 col3\" >0.1</td>\n      <td id=\"T_db84b_row80_col4\" class=\"data row80 col4\" >0.727754</td>\n      <td id=\"T_db84b_row80_col5\" class=\"data row80 col5\" >0.001578</td>\n    </tr>\n    <tr>\n      <td id=\"T_db84b_row81_col0\" class=\"data row81 col0\" >adni</td>\n      <td id=\"T_db84b_row81_col1\" class=\"data row81 col1\" >median</td>\n      <td id=\"T_db84b_row81_col2\" class=\"data row81 col2\" >signflip</td>\n      <td id=\"T_db84b_row81_col3\" class=\"data row81 col3\" >0.1</td>\n      <td id=\"T_db84b_row81_col4\" class=\"data row81 col4\" >0.716087</td>\n      <td id=\"T_db84b_row81_col5\" class=\"data row81 col5\" >0.001459</td>\n    </tr>\n    <tr>\n      <td id=\"T_db84b_row82_col0\" class=\"data row82 col0\" >adni</td>\n      <td id=\"T_db84b_row82_col1\" class=\"data row82 col1\" >median</td>\n      <td id=\"T_db84b_row82_col2\" class=\"data row82 col2\" >signflip</td>\n      <td id=\"T_db84b_row82_col3\" class=\"data row82 col3\" >0.3</td>\n      <td id=\"T_db84b_row82_col4\" class=\"data row82 col4\" >0.681087</td>\n      <td id=\"T_db84b_row82_col5\" class=\"data row82 col5\" >0.018137</td>\n    </tr>\n    <tr>\n      <td id=\"T_db84b_row83_col0\" class=\"data row83 col0\" >adni</td>\n      <td id=\"T_db84b_row83_col1\" class=\"data row83 col1\" >fedavg</td>\n      <td id=\"T_db84b_row83_col2\" class=\"data row83 col2\" >signflip</td>\n      <td id=\"T_db84b_row83_col3\" class=\"data row83 col3\" >0.3</td>\n      <td id=\"T_db84b_row83_col4\" class=\"data row83 col4\" >0.344928</td>\n      <td id=\"T_db84b_row83_col5\" class=\"data row83 col5\" >0.000000</td>\n    </tr>\n    <tr>\n      <td id=\"T_db84b_row84_col0\" class=\"data row84 col0\" >adni</td>\n      <td id=\"T_db84b_row84_col1\" class=\"data row84 col1\" >trimmedmean</td>\n      <td id=\"T_db84b_row84_col2\" class=\"data row84 col2\" >signflip</td>\n      <td id=\"T_db84b_row84_col3\" class=\"data row84 col3\" >0.3</td>\n      <td id=\"T_db84b_row84_col4\" class=\"data row84 col4\" >0.689130</td>\n      <td id=\"T_db84b_row84_col5\" class=\"data row84 col5\" >0.013594</td>\n    </tr>\n    <tr>\n      <td id=\"T_db84b_row85_col0\" class=\"data row85 col0\" >adni</td>\n      <td id=\"T_db84b_row85_col1\" class=\"data row85 col1\" >krum</td>\n      <td id=\"T_db84b_row85_col2\" class=\"data row85 col2\" >signflip</td>\n      <td id=\"T_db84b_row85_col3\" class=\"data row85 col3\" >0.3</td>\n      <td id=\"T_db84b_row85_col4\" class=\"data row85 col4\" >0.659348</td>\n      <td id=\"T_db84b_row85_col5\" class=\"data row85 col5\" >0.003356</td>\n    </tr>\n    <tr>\n      <td id=\"T_db84b_row86_col0\" class=\"data row86 col0\" >adni</td>\n      <td id=\"T_db84b_row86_col1\" class=\"data row86 col1\" >trimmedmean</td>\n      <td id=\"T_db84b_row86_col2\" class=\"data row86 col2\" >signflip</td>\n      <td id=\"T_db84b_row86_col3\" class=\"data row86 col3\" >0.5</td>\n      <td id=\"T_db84b_row86_col4\" class=\"data row86 col4\" >0.344928</td>\n      <td id=\"T_db84b_row86_col5\" class=\"data row86 col5\" >0.000000</td>\n    </tr>\n    <tr>\n      <td id=\"T_db84b_row87_col0\" class=\"data row87 col0\" >adni</td>\n      <td id=\"T_db84b_row87_col1\" class=\"data row87 col1\" >median</td>\n      <td id=\"T_db84b_row87_col2\" class=\"data row87 col2\" >signflip</td>\n      <td id=\"T_db84b_row87_col3\" class=\"data row87 col3\" >0.5</td>\n      <td id=\"T_db84b_row87_col4\" class=\"data row87 col4\" >0.344928</td>\n      <td id=\"T_db84b_row87_col5\" class=\"data row87 col5\" >0.000000</td>\n    </tr>\n    <tr>\n      <td id=\"T_db84b_row88_col0\" class=\"data row88 col0\" >adni</td>\n      <td id=\"T_db84b_row88_col1\" class=\"data row88 col1\" >fedavg</td>\n      <td id=\"T_db84b_row88_col2\" class=\"data row88 col2\" >signflip</td>\n      <td id=\"T_db84b_row88_col3\" class=\"data row88 col3\" >0.5</td>\n      <td id=\"T_db84b_row88_col4\" class=\"data row88 col4\" >0.344928</td>\n      <td id=\"T_db84b_row88_col5\" class=\"data row88 col5\" >0.000000</td>\n    </tr>\n    <tr>\n      <td id=\"T_db84b_row89_col0\" class=\"data row89 col0\" >adni</td>\n      <td id=\"T_db84b_row89_col1\" class=\"data row89 col1\" >krum</td>\n      <td id=\"T_db84b_row89_col2\" class=\"data row89 col2\" >signflip</td>\n      <td id=\"T_db84b_row89_col3\" class=\"data row89 col3\" >0.5</td>\n      <td id=\"T_db84b_row89_col4\" class=\"data row89 col4\" >0.674275</td>\n      <td id=\"T_db84b_row89_col5\" class=\"data row89 col5\" >0.001411</td>\n    </tr>\n    <tr>\n      <td id=\"T_db84b_row90_col0\" class=\"data row90 col0\" ></td>\n      <td id=\"T_db84b_row90_col1\" class=\"data row90 col1\" ></td>\n      <td id=\"T_db84b_row90_col2\" class=\"data row90 col2\" ></td>\n      <td id=\"T_db84b_row90_col3\" class=\"data row90 col3\" ></td>\n      <td id=\"T_db84b_row90_col4\" class=\"data row90 col4\" ></td>\n      <td id=\"T_db84b_row90_col5\" class=\"data row90 col5\" ></td>\n    </tr>\n    <tr>\n      <td id=\"T_db84b_row91_col0\" class=\"data row91 col0\" >adni</td>\n      <td id=\"T_db84b_row91_col1\" class=\"data row91 col1\" >median</td>\n      <td id=\"T_db84b_row91_col2\" class=\"data row91 col2\" >unbalancedata</td>\n      <td id=\"T_db84b_row91_col3\" class=\"data row91 col3\" >0.1</td>\n      <td id=\"T_db84b_row91_col4\" class=\"data row91 col4\" >0.750580</td>\n      <td id=\"T_db84b_row91_col5\" class=\"data row91 col5\" >0.001579</td>\n    </tr>\n    <tr>\n      <td id=\"T_db84b_row92_col0\" class=\"data row92 col0\" >adni</td>\n      <td id=\"T_db84b_row92_col1\" class=\"data row92 col1\" >krum</td>\n      <td id=\"T_db84b_row92_col2\" class=\"data row92 col2\" >unbalancedata</td>\n      <td id=\"T_db84b_row92_col3\" class=\"data row92 col3\" >0.1</td>\n      <td id=\"T_db84b_row92_col4\" class=\"data row92 col4\" >0.645652</td>\n      <td id=\"T_db84b_row92_col5\" class=\"data row92 col5\" >0.001732</td>\n    </tr>\n    <tr>\n      <td id=\"T_db84b_row93_col0\" class=\"data row93 col0\" >adni</td>\n      <td id=\"T_db84b_row93_col1\" class=\"data row93 col1\" >fedavg</td>\n      <td id=\"T_db84b_row93_col2\" class=\"data row93 col2\" >unbalancedata</td>\n      <td id=\"T_db84b_row93_col3\" class=\"data row93 col3\" >0.1</td>\n      <td id=\"T_db84b_row93_col4\" class=\"data row93 col4\" >0.748913</td>\n      <td id=\"T_db84b_row93_col5\" class=\"data row93 col5\" >0.001972</td>\n    </tr>\n    <tr>\n      <td id=\"T_db84b_row94_col0\" class=\"data row94 col0\" >adni</td>\n      <td id=\"T_db84b_row94_col1\" class=\"data row94 col1\" >trimmedmean</td>\n      <td id=\"T_db84b_row94_col2\" class=\"data row94 col2\" >unbalancedata</td>\n      <td id=\"T_db84b_row94_col3\" class=\"data row94 col3\" >0.1</td>\n      <td id=\"T_db84b_row94_col4\" class=\"data row94 col4\" >0.757391</td>\n      <td id=\"T_db84b_row94_col5\" class=\"data row94 col5\" >0.001420</td>\n    </tr>\n    <tr>\n      <td id=\"T_db84b_row95_col0\" class=\"data row95 col0\" >adni</td>\n      <td id=\"T_db84b_row95_col1\" class=\"data row95 col1\" >krum</td>\n      <td id=\"T_db84b_row95_col2\" class=\"data row95 col2\" >unbalancedata</td>\n      <td id=\"T_db84b_row95_col3\" class=\"data row95 col3\" >0.3</td>\n      <td id=\"T_db84b_row95_col4\" class=\"data row95 col4\" >0.650000</td>\n      <td id=\"T_db84b_row95_col5\" class=\"data row95 col5\" >0.001875</td>\n    </tr>\n    <tr>\n      <td id=\"T_db84b_row96_col0\" class=\"data row96 col0\" >adni</td>\n      <td id=\"T_db84b_row96_col1\" class=\"data row96 col1\" >trimmedmean</td>\n      <td id=\"T_db84b_row96_col2\" class=\"data row96 col2\" >unbalancedata</td>\n      <td id=\"T_db84b_row96_col3\" class=\"data row96 col3\" >0.3</td>\n      <td id=\"T_db84b_row96_col4\" class=\"data row96 col4\" >0.743985</td>\n      <td id=\"T_db84b_row96_col5\" class=\"data row96 col5\" >0.002212</td>\n    </tr>\n    <tr>\n      <td id=\"T_db84b_row97_col0\" class=\"data row97 col0\" >adni</td>\n      <td id=\"T_db84b_row97_col1\" class=\"data row97 col1\" >fedavg</td>\n      <td id=\"T_db84b_row97_col2\" class=\"data row97 col2\" >unbalancedata</td>\n      <td id=\"T_db84b_row97_col3\" class=\"data row97 col3\" >0.3</td>\n      <td id=\"T_db84b_row97_col4\" class=\"data row97 col4\" >0.745870</td>\n      <td id=\"T_db84b_row97_col5\" class=\"data row97 col5\" >0.001582</td>\n    </tr>\n    <tr>\n      <td id=\"T_db84b_row98_col0\" class=\"data row98 col0\" >adni</td>\n      <td id=\"T_db84b_row98_col1\" class=\"data row98 col1\" >median</td>\n      <td id=\"T_db84b_row98_col2\" class=\"data row98 col2\" >unbalancedata</td>\n      <td id=\"T_db84b_row98_col3\" class=\"data row98 col3\" >0.3</td>\n      <td id=\"T_db84b_row98_col4\" class=\"data row98 col4\" >0.753116</td>\n      <td id=\"T_db84b_row98_col5\" class=\"data row98 col5\" >0.001845</td>\n    </tr>\n    <tr>\n      <td id=\"T_db84b_row99_col0\" class=\"data row99 col0\" >adni</td>\n      <td id=\"T_db84b_row99_col1\" class=\"data row99 col1\" >krum</td>\n      <td id=\"T_db84b_row99_col2\" class=\"data row99 col2\" >unbalancedata</td>\n      <td id=\"T_db84b_row99_col3\" class=\"data row99 col3\" >0.5</td>\n      <td id=\"T_db84b_row99_col4\" class=\"data row99 col4\" >0.676304</td>\n      <td id=\"T_db84b_row99_col5\" class=\"data row99 col5\" >0.003846</td>\n    </tr>\n    <tr>\n      <td id=\"T_db84b_row100_col0\" class=\"data row100 col0\" >adni</td>\n      <td id=\"T_db84b_row100_col1\" class=\"data row100 col1\" >fedavg</td>\n      <td id=\"T_db84b_row100_col2\" class=\"data row100 col2\" >unbalancedata</td>\n      <td id=\"T_db84b_row100_col3\" class=\"data row100 col3\" >0.5</td>\n      <td id=\"T_db84b_row100_col4\" class=\"data row100 col4\" >0.736159</td>\n      <td id=\"T_db84b_row100_col5\" class=\"data row100 col5\" >0.001959</td>\n    </tr>\n    <tr>\n      <td id=\"T_db84b_row101_col0\" class=\"data row101 col0\" >adni</td>\n      <td id=\"T_db84b_row101_col1\" class=\"data row101 col1\" >median</td>\n      <td id=\"T_db84b_row101_col2\" class=\"data row101 col2\" >unbalancedata</td>\n      <td id=\"T_db84b_row101_col3\" class=\"data row101 col3\" >0.5</td>\n      <td id=\"T_db84b_row101_col4\" class=\"data row101 col4\" >0.739928</td>\n      <td id=\"T_db84b_row101_col5\" class=\"data row101 col5\" >0.001968</td>\n    </tr>\n    <tr>\n      <td id=\"T_db84b_row102_col0\" class=\"data row102 col0\" >adni</td>\n      <td id=\"T_db84b_row102_col1\" class=\"data row102 col1\" >trimmedmean</td>\n      <td id=\"T_db84b_row102_col2\" class=\"data row102 col2\" >unbalancedata</td>\n      <td id=\"T_db84b_row102_col3\" class=\"data row102 col3\" >0.5</td>\n      <td id=\"T_db84b_row102_col4\" class=\"data row102 col4\" >0.734855</td>\n      <td id=\"T_db84b_row102_col5\" class=\"data row102 col5\" >0.002018</td>\n    </tr>\n  </tbody>\n</table>\n"
     },
     "metadata": {},
     "output_type": "display_data"
    }
   ],
   "source": [
    "\n",
    "defenses_results =  df[df['attack']!='clean']\n",
    "\n",
    "for non_iid, group in defenses_results.groupby('non_iid'):\n",
    "    display(HTML('<br/><h3>{}</h3>'.format('non iid degree: {}'.format(non_iid))))\n",
    "    group_and_show(group.sort_values('fraction'), 'attack', ['non_iid'])\n",
    "\n"
   ],
   "metadata": {
    "collapsed": false,
    "pycharm": {
     "name": "#%%\n"
    }
   }
  },
  {
   "cell_type": "code",
   "execution_count": 94,
   "outputs": [],
   "source": [
    "\n",
    "def autolabel(rects):\n",
    "    \"\"\"\n",
    "    Attach a text label above each bar displaying its height\n",
    "    \"\"\"\n",
    "    for rect in rects:\n",
    "        height = rect.get_height()\n",
    "        plt.text(rect.get_x() + rect.get_width()/2., 1.03 * height,\n",
    "                '%d' % int(np.round(height)),\n",
    "                ha='center', va='bottom')\n"
   ],
   "metadata": {
    "collapsed": false,
    "pycharm": {
     "name": "#%%\n"
    }
   }
  },
  {
   "cell_type": "code",
   "execution_count": 95,
   "outputs": [
    {
     "name": "stdout",
     "output_type": "stream",
     "text": [
      "fed avg summary\n",
      "backdoor 100.0\n",
      "deletedata 0.6\n",
      "labelflip 20.75\n",
      "noisedata 3.62\n",
      "overlapdata 28.83\n",
      "randomupdate 10.75\n",
      "signflip 40.28\n",
      "unbalancedata 1.16\n"
     ]
    }
   ],
   "source": [
    "\n",
    "fed_avg_results =  df[df['aggregator'] == 'fedavg']\n",
    "# fed_avg_results = fed_avg_results[fed_avg_results['attack']!='clean']\n",
    "fed_avg_clean = fed_avg_results[fed_avg_results['attack']=='clean']\n",
    "\n",
    "print('fed avg summary')\n",
    "for attack, attack_group in fed_avg_results[fed_avg_results['attack']!='clean'].groupby('attack'):\n",
    "    attack_group = attack_group[attack_group['fraction'] == '0.5']\n",
    "    if attack == 'backdoor':\n",
    "        print(attack, np.round(attack_group['accuracy_m'].mean()*100, 2))\n",
    "        continue\n",
    "    print(attack, np.round((fed_avg_clean['accuracy_m'].to_numpy() - attack_group['accuracy_m']).mean()*100, 2))\n",
    "\n",
    "# plt.bar()\n",
    "attack_data = {}\n",
    "for attack, attack_group in fed_avg_results.groupby('attack'):\n",
    "    y = {}\n",
    "    for non_iid, non_iid_group in attack_group.groupby('non_iid'):\n",
    "        y[non_iid] = non_iid_group['accuracy_m'].to_numpy() * 100\n",
    "    attack_data[attack] = y\n",
    "\n",
    "clean = attack_data['clean']\n",
    "for attack in attack_data:\n",
    "    if attack == 'clean' or attack == 'backdoor':\n",
    "        continue\n",
    "    data = attack_data[attack]\n",
    "    for non_iid in clean:\n",
    "        data[non_iid] = np.concatenate((clean[non_iid], data[non_iid]))\n",
    "\n",
    "del attack_data['clean']\n",
    "\n",
    "width = 0.22\n",
    "\n",
    "x_ticks = ['Clean', '0.1', '0.3', '0.5']\n",
    "y_label = 'Accuracy'\n",
    "x_label = 'Fraction of malicious devices'\n",
    "path = root + '0images/fedavg/'\n",
    "os.makedirs(path, exist_ok=True)\n",
    "\n",
    "plt.rcParams.update({'font.size': 13})\n",
    "\n",
    "for attack in attack_data:\n",
    "    fig = plt.figure()\n",
    "    data = attack_data[attack]\n",
    "    for i, non_iid in enumerate(data):\n",
    "        accuracy_values = data[non_iid]\n",
    "        x = np.arange(len(accuracy_values))\n",
    "        autolabel(plt.bar(x + width * i, accuracy_values, width, label='non iid: ' + non_iid))\n",
    "    x1,x2,y1,y2 = plt.axis()\n",
    "    plt.axis((x1,x2,y1 ,y2 + 5))\n",
    "    plt.xlabel(x_label)\n",
    "    plt.ylabel(y_label)\n",
    "    plt.xticks(x + width, x_ticks[-len(x):])\n",
    "    plt.legend(loc=\"lower left\")\n",
    "    file = path + attack + '.png'\n",
    "    plt.savefig(file, bbox_inches='tight')\n",
    "    plt.close(fig)\n",
    "\n"
   ],
   "metadata": {
    "collapsed": false,
    "pycharm": {
     "name": "#%%\n"
    }
   }
  },
  {
   "cell_type": "code",
   "execution_count": 96,
   "outputs": [],
   "source": [
    "\n",
    "clean_results =  df[df['attack'] == 'clean']\n",
    "\n",
    "# plt.bar()\n",
    "clean_data = {}\n",
    "for aggregator, aggregator_group in clean_results.groupby('aggregator'):\n",
    "    clean_data[aggregator] = aggregator_group['accuracy_m'].to_numpy() * 100\n",
    "\n",
    "\n",
    "width = 0.15\n",
    "\n",
    "\n",
    "x_ticks = ['0', '0.4', '0.7']\n",
    "y_label = 'Accuracy'\n",
    "x_label = 'Non iid degree'\n",
    "\n",
    "file = root + '0images/clean.png'\n",
    "\n",
    "plt.rcParams.update({'font.size': 15})\n",
    "\n",
    "fig = plt.figure(figsize=(10, 6))\n",
    "\n",
    "if 'adni' in root:\n",
    "    x = [aggregator for aggregator in clean_data]\n",
    "    y = [clean_data[aggregator][0] for aggregator in clean_data]\n",
    "    bars = plt.bar(x, y, 0.4)\n",
    "    for i, bar in enumerate(bars):\n",
    "        bar.set_color('C{}'.format(i))\n",
    "    autolabel(bars)\n",
    "\n",
    "else:\n",
    "    for i, aggregator in enumerate(clean_data):\n",
    "        accuracy_values = clean_data[aggregator]\n",
    "        x = np.arange(len(accuracy_values))\n",
    "        autolabel(plt.bar(x + width * i, accuracy_values, width, label=aggregator))\n",
    "    plt.xticks(x + width, x_ticks[-len(x):])\n",
    "    plt.xlabel(x_label)\n",
    "    plt.legend(loc=\"lower left\")\n",
    "\n",
    "x1,x2,y1,y2 = plt.axis()\n",
    "plt.axis((x1,x2,y1 ,y2 + 5))\n",
    "plt.ylabel(y_label)\n",
    "plt.savefig(file, bbox_inches='tight')\n",
    "plt.close(fig)\n"
   ],
   "metadata": {
    "collapsed": false,
    "pycharm": {
     "name": "#%%\n"
    }
   }
  },
  {
   "cell_type": "code",
   "execution_count": 97,
   "outputs": [],
   "source": [
    "if 'adni' in root:\n",
    "    defenses_results = df[df['attack']!='clean']\n",
    "else:\n",
    "    defenses_results =  df[\n",
    "    (df['attack']=='labelflip') |\n",
    "    (df['attack'] == 'randomupdate') |\n",
    "    (df['attack'] == 'signflip') |\n",
    "    (df['attack'] == 'backdoor')\n",
    "    ]\n",
    "\n",
    "width = 0.2\n",
    "\n",
    "x_ticks = ['0.1', '0.3', '0.5']\n",
    "y_label = 'Accuracy'\n",
    "x_label = 'Fraction of malicious devices'\n",
    "\n",
    "path = root + '0images/defences/'\n",
    "plt.rcParams.update({'font.size': 13})\n",
    "\n",
    "for non_iid, non_iid_group in defenses_results.groupby('non_iid'):\n",
    "    p = path+non_iid+'/'\n",
    "    os.makedirs(p, exist_ok=True)\n",
    "    for attack, attack_group in non_iid_group.groupby('attack'):\n",
    "        fig = plt.figure()\n",
    "        for i, (aggregator, aggregator_group) in enumerate(attack_group.groupby('aggregator')):\n",
    "            accuracy_values = aggregator_group['accuracy_m'].to_numpy()*100\n",
    "            x = np.arange(len(accuracy_values))\n",
    "            autolabel(plt.bar(x + width * i, accuracy_values, width, label=aggregator))\n",
    "        x1,x2,y1,y2 = plt.axis()\n",
    "        plt.axis((x1,x2,y1 ,y2 + 5))\n",
    "        plt.xlabel(x_label)\n",
    "        plt.ylabel(y_label)\n",
    "        plt.xticks(x + width, x_ticks[-len(x):])\n",
    "        plt.legend(loc=\"lower left\")\n",
    "        file = p + attack + '.png'\n",
    "        plt.savefig(file, bbox_inches='tight')\n",
    "        plt.close(fig)\n"
   ],
   "metadata": {
    "collapsed": false,
    "pycharm": {
     "name": "#%%\n"
    }
   }
  },
  {
   "cell_type": "code",
   "execution_count": 98,
   "outputs": [
    {
     "name": "stdout",
     "output_type": "stream",
     "text": [
      "aggregator summary\n",
      "defaultdict(<class 'int'>, {'median': 4, 'fedavg': 1, 'trimmedmean': 5, 'krum': 2})\n",
      "non targeted attacks\n",
      "fedavg \t\t 52.92\n",
      "krum \t\t 63.24\n",
      "median \t\t 64.91\n",
      "trimmedmean \t\t 65.08\n",
      "\n",
      "\n",
      "targeted\n",
      "fedavg \t\t 99.52\n",
      "krum \t\t 53.88\n",
      "median \t\t 96.9\n",
      "trimmedmean \t\t 97.92\n"
     ]
    }
   ],
   "source": [
    "all_confs = defenses_results\n",
    "if 'adni' in root:\n",
    "    all_confs = df[\n",
    "    (df['attack']=='labelflip') |\n",
    "    (df['attack'] == 'randomupdate') |\n",
    "    (df['attack'] == 'signflip') |\n",
    "    (df['attack'] == 'overlapdata') |\n",
    "    (df['attack'] == 'backdoor')\n",
    "    ]\n",
    "\n",
    "\n",
    "print('aggregator summary')\n",
    "\n",
    "def summary(all_confs):\n",
    "    rank_data = all_confs[all_confs['attack']!='backdoor']\n",
    "    ranks = defaultdict(int)\n",
    "    for non_iid, non_iid_group in rank_data.groupby('non_iid'):\n",
    "        for attack, attack_group in non_iid_group.groupby('attack'):\n",
    "            for fraction, fraction_group in attack_group.groupby('fraction'):\n",
    "                ranks[fraction_group.loc[fraction_group['accuracy_m'].idxmax()]['aggregator']]+=1\n",
    "\n",
    "    print(ranks)\n",
    "\n",
    "\n",
    "    print('non targeted attacks')\n",
    "    for aggregator, aggregator_group in all_confs[all_confs['attack']!='backdoor'].groupby('aggregator'):\n",
    "        print(aggregator, '\\t\\t', np.round(aggregator_group['accuracy_m'].to_numpy().mean()*100, 2))\n",
    "\n",
    "    print('\\n')\n",
    "\n",
    "    print('targeted')\n",
    "    for aggregator, aggregator_group in all_confs[all_confs['attack']=='backdoor'].groupby('aggregator'):\n",
    "        print(aggregator, '\\t\\t', np.round(aggregator_group['accuracy_m'].to_numpy().mean()*100, 2))\n",
    "\n",
    "\n",
    "summary(all_confs)\n"
   ],
   "metadata": {
    "collapsed": false,
    "pycharm": {
     "name": "#%%\n"
    }
   }
  },
  {
   "cell_type": "code",
   "execution_count": 99,
   "outputs": [
    {
     "name": "stdout",
     "output_type": "stream",
     "text": [
      "\\multirow{5}{*}{CIFAR-10} & FedAvg & \\cellcolor{gray!25}74.58 & \\cellcolor{gray!25}66.81 & 36.4 & 10.0 & 10.0 & 10.0 & 34.63\\\\\n",
      " & Krum & 49.49 & 41.02 & 29.41 & 61.0 & \\cellcolor{gray!25}60.62 & \\cellcolor{gray!25}59.13 & 50.11\\\\\n",
      " & Median & 70.34 & 54.13 & 27.59 & 70.96 & 10.0 & 10.0 & 40.5\\\\\n",
      " & Tri-Mean & 73.2 & 59.01 & 31.84 & 10.0 & 10.0 & 10.0 & 32.34\\\\\n",
      " & Ensemble & 73.31 & 64.85 & \\cellcolor{gray!25}60.53 & \\cellcolor{gray!25}72.08 & 59.77 & 10.0 & \\cellcolor{gray!25}56.75\\\\\n",
      "\\multirow{5}{*}{ADNI} & FedAvg & 69.02 & 58.14 & 54.03 & 34.49 & 34.49 & 34.49 & 47.44\\\\\n",
      " & Krum & 61.06 & 59.04 & 46.67 & 63.4 & 65.93 & \\cellcolor{gray!25}67.43 & 60.59\\\\\n",
      " & Median & 69.59 & 60.98 & 46.34 & 71.61 & 68.11 & 34.49 & 58.52\\\\\n",
      " & Tri-Mean & 68.97 & 60.49 & 48.43 & \\cellcolor{gray!25}72.78 & \\cellcolor{gray!25}68.91 & 34.49 & 59.01\\\\\n",
      " & Ensemble & \\cellcolor{gray!25}70.02 & \\cellcolor{gray!25}65.44 & \\cellcolor{gray!25}66.16 & 71.48 & 65.64 & 49.7 & \\cellcolor{gray!25}64.74\n"
     ]
    }
   ],
   "source": [
    "\n",
    "cifar_raw = pd.read_csv('results/cifar/0images/raw.csv')\n",
    "cifar_raw = cifar_raw[(cifar_raw['non_iid'] == 0.4) & ((cifar_raw['attack'] == 'labelflip') | (cifar_raw['attack'] == 'signflip'))]\n",
    "adni_raw = pd.read_csv('results/adni/0images/raw.csv')\n",
    "adni_raw = adni_raw[(adni_raw['attack']=='labelflip') | (adni_raw['attack']=='signflip')]\n",
    "comb_cifar_raw = pd.read_csv('results/combination/cifar/0images/raw.csv')\n",
    "comb_adni_raw = pd.read_csv('results/combination/adni/0images/raw.csv')\n",
    "comb_adni_raw['non_iid'] = comb_adni_raw['non_iid'].apply(lambda x: 0)\n",
    "cifar_raw = pd.concat([cifar_raw, comb_cifar_raw])\n",
    "adni_raw = pd.concat([adni_raw, comb_adni_raw])\n",
    "\n",
    "\n",
    "table = []\n",
    "for dataset, raw in [('CIFAR-10', cifar_raw), ('ADNI', adni_raw)]:\n",
    "    columns = []\n",
    "    for attack, attack_group in raw.groupby('attack'):\n",
    "        for fraction, fraction_group in attack_group.groupby('fraction'):\n",
    "            columns.append(fraction_group['accuracy_m'].to_numpy()*100)\n",
    "\n",
    "    columns = np.column_stack(columns)\n",
    "\n",
    "    columns = np.column_stack([columns, columns.mean(axis=1)])\n",
    "\n",
    "    columns = np.round(columns, 2)\n",
    "\n",
    "    indices = columns.argmax(axis=0)\n",
    "\n",
    "    columns = columns.astype(np.str)\n",
    "\n",
    "    for i, index in enumerate(indices):\n",
    "        columns[index, i] = '\\\\cellcolor{gray!25}' + columns[index, i]\n",
    "    columns = np.column_stack([['']*5, ['FedAvg', 'Krum', 'Median', 'Tri-Mean', 'Ensemble'], columns])\n",
    "\n",
    "    columns[0,0] = '\\\\multirow{5}{*}{' + dataset + '}'\n",
    "\n",
    "    table.append(columns)\n",
    "table = np.row_stack(table)\n",
    "\n",
    "print('\\\\\\\\\\n'.join(map(lambda row: ' & '.join(row), table)))\n"
   ],
   "metadata": {
    "collapsed": false,
    "pycharm": {
     "name": "#%%\n"
    }
   }
  },
  {
   "cell_type": "code",
   "execution_count": 122,
   "outputs": [],
   "source": [
    "\n",
    "cifar_map = load('results/cifar/')\n",
    "adni_map = load('results/adni/')\n",
    "cifar_comb_map = load('results/combination/cifar/')\n",
    "adni_comb_map = load('results/combination/adni/')\n",
    "\n",
    "temp ={}\n",
    "for key in adni_map:\n",
    "    if (key == 'adni-0--median--labelflip-0.1' or\n",
    "        key == 'adni-0--median--labelflip-0.3' or\n",
    "        key == 'adni-0--fedavg--labelflip-0.5' or\n",
    "        key == 'adni-0--trimmedmean--signflip-0.3' or\n",
    "        key == 'adni-0--krum--signflip-0.5' or\n",
    "        key == 'adni-0--trimmedmean--signflip-0.1'):\n",
    "        temp[key.split('--')[-1]] = adni_map[key]\n",
    "adni_map = temp\n",
    "\n",
    "temp ={}\n",
    "for key in adni_comb_map:\n",
    "    temp[key.split('--')[-1]] = adni_comb_map[key]\n",
    "adni_comb_map = temp\n",
    "\n",
    "\n",
    "temp ={}\n",
    "for key in cifar_map:\n",
    "    if (key == 'cifar-0.4--fedavg--labelflip-0.1' or\n",
    "        key == 'cifar-0.4--fedavg--labelflip-0.3' or\n",
    "        key == 'cifar-0.4--fedavg--labelflip-0.5' or\n",
    "        key == 'cifar-0.4--krum--signflip-0.3' or\n",
    "        key == 'cifar-0.4--krum--signflip-0.5' or\n",
    "        key == 'cifar-0.4--median--signflip-0.1'):\n",
    "        temp[key.split('--')[-1]] = cifar_map[key]\n",
    "cifar_map = temp\n",
    "\n",
    "temp ={}\n",
    "for key in cifar_comb_map:\n",
    "    temp[key.split('--')[-1]] = cifar_comb_map[key]\n",
    "cifar_comb_map = temp\n",
    "\n",
    "\n"
   ],
   "metadata": {
    "collapsed": false,
    "pycharm": {
     "name": "#%%\n"
    }
   }
  },
  {
   "cell_type": "code",
   "execution_count": 125,
   "outputs": [
    {
     "name": "stdout",
     "output_type": "stream",
     "text": [
      "cifar\n",
      "\n",
      "labelflip-0.1\n",
      "Statistics=92.000, p=0.002\n",
      "Different distribution (reject H0)\n",
      "\n",
      "labelflip-0.3\n",
      "Statistics=79.000, p=0.031\n",
      "Different distribution (reject H0)\n",
      "\n",
      "labelflip-0.5\n",
      "Statistics=0.000, p=0.000\n",
      "Different distribution (reject H0)\n",
      "\n",
      "signflip-0.1\n",
      "Statistics=12.000, p=0.005\n",
      "Different distribution (reject H0)\n",
      "\n",
      "signflip-0.3\n",
      "Statistics=65.000, p=0.271\n",
      "Same distribution (fail to reject H0)\n",
      "\n",
      "signflip-0.5\n",
      "Statistics=80.000, p=0.006\n",
      "Different distribution (reject H0)\n",
      "\n",
      "\n",
      "\n",
      "adni\n",
      "\n",
      "labelflip-0.1\n",
      "Statistics=54.500, p=0.762\n",
      "Same distribution (fail to reject H0)\n",
      "\n",
      "labelflip-0.3\n",
      "Statistics=31.000, p=0.162\n",
      "Same distribution (fail to reject H0)\n",
      "\n",
      "labelflip-0.5\n",
      "Statistics=4.000, p=0.001\n",
      "Different distribution (reject H0)\n",
      "\n",
      "signflip-0.1\n",
      "Statistics=67.000, p=0.211\n",
      "Same distribution (fail to reject H0)\n",
      "\n",
      "signflip-0.3\n",
      "Statistics=57.000, p=0.623\n",
      "Same distribution (fail to reject H0)\n",
      "\n",
      "signflip-0.5\n",
      "Statistics=79.000, p=0.030\n",
      "Different distribution (reject H0)\n"
     ]
    }
   ],
   "source": [
    "print('cifar')\n",
    "for key in cifar_comb_map:\n",
    "    single = cifar_map[key]\n",
    "    comb = cifar_comb_map[key]\n",
    "    single = list(map(lambda x: x[0], single))\n",
    "    comb = list(map(lambda x: x[0], comb))\n",
    "    print('')\n",
    "    print(key)\n",
    "    stat, p = mannwhitneyu(single, comb)\n",
    "    print('Statistics=%.3f, p=%.3f' % (stat, p))\n",
    "    # interpret\n",
    "    alpha = 0.05\n",
    "    if p > alpha:\n",
    "    \tprint('Same distribution (fail to reject H0)')\n",
    "    else:\n",
    "    \tprint('Different distribution (reject H0)')\n",
    "\n",
    "print('\\n\\n')\n",
    "print('adni')\n",
    "for key in adni_comb_map:\n",
    "    single = adni_map[key]\n",
    "    comb = adni_comb_map[key]\n",
    "    single = list(map(lambda x: x[0], single))\n",
    "    comb = list(map(lambda x: x[0], comb))\n",
    "    print('')\n",
    "    print(key)\n",
    "    stat, p = mannwhitneyu(single, comb)\n",
    "    print('Statistics=%.3f, p=%.3f' % (stat, p))\n",
    "    # interpret\n",
    "    alpha = 0.05\n",
    "    if p > alpha:\n",
    "    \tprint('Same distribution (fail to reject H0)')\n",
    "    else:\n",
    "    \tprint('Different distribution (reject H0)')"
   ],
   "metadata": {
    "collapsed": false,
    "pycharm": {
     "name": "#%%\n"
    }
   }
  }
 ],
 "metadata": {
  "kernelspec": {
   "display_name": "Python 3",
   "language": "python",
   "name": "python3"
  },
  "language_info": {
   "codemirror_mode": {
    "name": "ipython",
    "version": 2
   },
   "file_extension": ".py",
   "mimetype": "text/x-python",
   "name": "python",
   "nbconvert_exporter": "python",
   "pygments_lexer": "ipython2",
   "version": "2.7.6"
  }
 },
 "nbformat": 4,
 "nbformat_minor": 0
}