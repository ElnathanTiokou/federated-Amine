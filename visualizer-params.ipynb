{
 "cells": [
  {
   "cell_type": "code",
   "execution_count": 56,
   "outputs": [],
   "source": [
    "import os\n",
    "import shutil\n",
    "from collections import defaultdict\n",
    "import numpy as np\n",
    "import matplotlib.pyplot as plt\n",
    "from tqdm import tqdm\n",
    "import pandas as pd\n",
    "from IPython.display import display, HTML\n",
    "import matplotlib.pyplot as plt\n",
    "import os\n",
    "import cv2\n",
    "import shutil\n",
    "from scipy.stats import mannwhitneyu\n"
   ],
   "metadata": {
    "collapsed": false,
    "pycharm": {
     "name": "#%%\n"
    }
   }
  },
  {
   "cell_type": "code",
   "execution_count": 57,
   "metadata": {
    "collapsed": true
   },
   "outputs": [
    {
     "name": "stderr",
     "output_type": "stream",
     "text": [
      "100%|██████████| 9/9 [00:00<00:00, 15129.75it/s]\n",
      "100%|██████████| 9/9 [00:00<00:00, 17975.59it/s]\n",
      "100%|██████████| 8/8 [00:00<00:00, 13746.18it/s]\n",
      "100%|██████████| 13/13 [00:00<00:00, 12192.74it/s]\n",
      "100%|██████████| 9/9 [00:00<00:00, 11164.96it/s]\n",
      "100%|██████████| 9/9 [00:00<00:00, 10884.87it/s]\n",
      "100%|██████████| 9/9 [00:00<00:00, 10862.95it/s]\n",
      "100%|██████████| 9/9 [00:00<00:00, 12002.78it/s]\n",
      "100%|██████████| 9/9 [00:00<00:00, 14932.25it/s]\n",
      "100%|██████████| 7/7 [00:00<00:00, 10065.18it/s]\n"
     ]
    }
   ],
   "source": [
    "root = 'results/params/'\n",
    "for run in os.listdir(root):\n",
    "    if run == '0images':\n",
    "        continue\n",
    "    for folder in tqdm(os.listdir(root + run)):\n",
    "        for file in os.listdir(root + run + '/' + folder):\n",
    "            if file.endswith('.json'):\n",
    "                number = file.replace('.json', '').replace('config-', '')\n",
    "                try:\n",
    "                    shutil.move(root + 'fed-job-{}.out'.format(number), root + folder)\n",
    "                except:\n",
    "                    pass\n",
    "            if file.endswith('npy'):\n",
    "                metric = file.replace('.npy', '')\n",
    "                if os.path.exists(root + run + '/' + folder + '/' + metric + '.png'):\n",
    "                    continue\n",
    "                y = np.load(root + run + '/' + folder + '/' + file)\n",
    "                x = np.arange(1, len(y) + 1)\n",
    "                mean = y.cumsum() / x\n",
    "                fig = plt.figure()\n",
    "                plt.plot(x, y, label=metric.replace('_', ' '))\n",
    "                plt.plot(x, mean, label=metric.replace('_', ' ') + ' mean')\n",
    "                plt.xlabel('num of round')\n",
    "                plt.grid(True)\n",
    "                plt.yticks(np.arange(0, 1, 0.1))\n",
    "                plt.legend()\n",
    "                plt.savefig(root + run + '/' + folder + '/' + metric + '.png', bbox_inches='tight')\n",
    "                plt.close(fig)"
   ]
  },
  {
   "cell_type": "code",
   "execution_count": 58,
   "outputs": [],
   "source": [
    "krum_images = []\n",
    "\n",
    "\n",
    "def load(root):\n",
    "    result_map = defaultdict(list)\n",
    "    for run in os.listdir(root):\n",
    "        if run == '0images':\n",
    "            continue\n",
    "        for folder in os.listdir(root + run):\n",
    "            if folder == '0images':\n",
    "                continue\n",
    "            accuracy_m = 0\n",
    "            accuracy_s = 0\n",
    "            for file in os.listdir(root + run + '/' + folder):\n",
    "                if file.endswith('.npy'):\n",
    "                    results = np.load(root + run + '/' + folder + '/' + file)\n",
    "                    num = len(results) // 10\n",
    "                    accuracy_m = np.median(results[-num:])\n",
    "                    deg = '0.4'\n",
    "                    if 'adni' in folder:\n",
    "                        deg = '0'\n",
    "                    if deg + '--krum--clean' in folder:\n",
    "                        krum_images.append(root + run + '/' + folder + '/' + file.replace('.npy', '.png'))\n",
    "                    accuracy_s = results[-num:].std()\n",
    "                    if file.startswith('backdoor'):\n",
    "                        break\n",
    "            result_map[folder].append((accuracy_m, accuracy_s))\n",
    "    return result_map\n",
    "\n",
    "\n",
    "result_map = load(root)\n",
    "\n",
    "path = root + '0images/krum/'\n",
    "os.makedirs(path, exist_ok=True)\n",
    "for i, image in enumerate(krum_images):\n",
    "    shutil.copy(image, path + '{}.png'.format(i))\n",
    "\n"
   ],
   "metadata": {
    "collapsed": false,
    "pycharm": {
     "name": "#%%\n"
    }
   }
  },
  {
   "cell_type": "code",
   "execution_count": 59,
   "outputs": [],
   "source": [
    "data = []\n",
    "for config in result_map:\n",
    "    results = result_map[config]\n",
    "    results = np.median(results, axis=0)\n",
    "    a = list(filter(lambda x: x, config.split('-')))\n",
    "    dataset = a[0]\n",
    "    non_iid = a[1]\n",
    "    aggregator = a[2]\n",
    "    attack = a[3]\n",
    "    fraction = a[4] if len(a) > 4 else 0\n",
    "    parameter_name = a[5] if len(a) > 5 else ''\n",
    "    parameter_val = a[6] if len(a) > 6 else 0\n",
    "    data.append((dataset, non_iid, aggregator, attack, fraction, parameter_name, parameter_val, *results))\n",
    "\n",
    "df = pd.DataFrame(data,\n",
    "                  columns=['dataset', 'non_iid', 'aggregator', 'attack', 'fraction', 'parameter_name', 'parameter_val',\n",
    "                           'accuracy_m', 'accuracy_s'])\n",
    "\n",
    "df.to_csv(root + '0images/raw.csv')"
   ],
   "metadata": {
    "collapsed": false,
    "pycharm": {
     "name": "#%%\n"
    }
   }
  },
  {
   "cell_type": "code",
   "execution_count": 60,
   "outputs": [],
   "source": [
    "\n",
    "def autolabel(rects):\n",
    "    \"\"\"\n",
    "    Attach a text label above each bar displaying its height\n",
    "    \"\"\"\n",
    "    for rect in rects:\n",
    "        height = rect.get_height()\n",
    "        plt.text(rect.get_x() + rect.get_width() / 2., 1.03 * height,\n",
    "                 '%d' % int(np.round(height)),\n",
    "                 ha='center', va='bottom')\n",
    "\n"
   ],
   "metadata": {
    "collapsed": false,
    "pycharm": {
     "name": "#%%\n"
    }
   }
  },
  {
   "cell_type": "code",
   "execution_count": 86,
   "outputs": [
    {
     "name": "stdout",
     "output_type": "stream",
     "text": [
      "deletedata\n",
      "noisedata\n",
      "overlapdata\n",
      "unbalancedata\n"
     ]
    }
   ],
   "source": [
    "# clean = df[df['attack'] == 'clean']\n",
    "attacks = df[df['attack'] != 'clean']\n",
    "\n",
    "for mutator, group in attacks.groupby('attack'):\n",
    "    print(mutator)\n",
    "    group = group.sort_values('parameter_val')\n",
    "    values = group['accuracy_m'].to_numpy() * 100\n",
    "    # values = np.concatenate((clean['accuracy_m'].to_numpy(), values)) * 100\n",
    "    x = group['parameter_val'].tolist()\n",
    "    y_label = 'Accuracy'\n",
    "\n",
    "    plt.rcParams.update({'font.size': 22})\n",
    "    fig = plt.figure(figsize=(10, 6))\n",
    "    autolabel(plt.bar(x, values, .35, color='darkcyan'))\n",
    "    x1, x2, y1, y2 = plt.axis()\n",
    "    plt.axis((x1 - .5, x2 + .5, y1, y2 + 8))\n",
    "    plt.ylabel(y_label)\n",
    "    plt.xlabel(group['parameter_name'].tolist()[0].replace('_', ' '))\n",
    "    plt.savefig(root + '0images/' + mutator + '.png', bbox_inches='tight')\n",
    "    plt.close(fig)\n",
    "    # plt.show()"
   ],
   "metadata": {
    "collapsed": false,
    "pycharm": {
     "name": "#%%\n"
    }
   }
  }
 ],
 "metadata": {
  "kernelspec": {
   "display_name": "Python 3",
   "language": "python",
   "name": "python3"
  },
  "language_info": {
   "codemirror_mode": {
    "name": "ipython",
    "version": 2
   },
   "file_extension": ".py",
   "mimetype": "text/x-python",
   "name": "python",
   "nbconvert_exporter": "python",
   "pygments_lexer": "ipython2",
   "version": "2.7.6"
  }
 },
 "nbformat": 4,
 "nbformat_minor": 0
}